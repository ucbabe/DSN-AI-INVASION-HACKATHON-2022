{
 "cells": [
  {
   "cell_type": "markdown",
   "id": "b8fd3b05",
   "metadata": {},
   "source": [
    "## IMPORTING THE REQUIRED LIBRARIES"
   ]
  },
  {
   "cell_type": "code",
   "execution_count": 1,
   "id": "ffc28625",
   "metadata": {},
   "outputs": [],
   "source": [
    "import numpy as np\n",
    "import pandas as pd\n",
    "\n",
    "import matplotlib.pyplot as plt\n",
    "import seaborn as sns\n",
    "import sklearn \n",
    "from sklearn.model_selection import train_test_split\n",
    "from sklearn.preprocessing import OneHotEncoder"
   ]
  },
  {
   "cell_type": "markdown",
   "id": "ad892561",
   "metadata": {},
   "source": [
    "## READING THE DATASET"
   ]
  },
  {
   "cell_type": "code",
   "execution_count": 2,
   "id": "3a6222af",
   "metadata": {},
   "outputs": [],
   "source": [
    "train=pd.read_csv(\"Train.csv\")\n",
    "test= pd.read_csv(\"Test.csv\")\n",
    "\n"
   ]
  },
  {
   "cell_type": "code",
   "execution_count": 3,
   "id": "81a654d5",
   "metadata": {},
   "outputs": [
    {
     "data": {
      "text/html": [
       "<div>\n",
       "<style scoped>\n",
       "    .dataframe tbody tr th:only-of-type {\n",
       "        vertical-align: middle;\n",
       "    }\n",
       "\n",
       "    .dataframe tbody tr th {\n",
       "        vertical-align: top;\n",
       "    }\n",
       "\n",
       "    .dataframe thead th {\n",
       "        text-align: right;\n",
       "    }\n",
       "</style>\n",
       "<table border=\"1\" class=\"dataframe\">\n",
       "  <thead>\n",
       "    <tr style=\"text-align: right;\">\n",
       "      <th></th>\n",
       "      <th>VehicleID</th>\n",
       "      <th>Location</th>\n",
       "      <th>Maker</th>\n",
       "      <th>Model</th>\n",
       "      <th>Year</th>\n",
       "      <th>Colour</th>\n",
       "      <th>Amount (Million Naira)</th>\n",
       "      <th>Type</th>\n",
       "      <th>Distance</th>\n",
       "    </tr>\n",
       "  </thead>\n",
       "  <tbody>\n",
       "    <tr>\n",
       "      <th>0</th>\n",
       "      <td>VHL12546</td>\n",
       "      <td>Abuja</td>\n",
       "      <td>Honda</td>\n",
       "      <td>Accord Coupe EX V-6</td>\n",
       "      <td>2,011</td>\n",
       "      <td>Silver</td>\n",
       "      <td>2.20</td>\n",
       "      <td>Nigerian Used</td>\n",
       "      <td>NaN</td>\n",
       "    </tr>\n",
       "    <tr>\n",
       "      <th>1</th>\n",
       "      <td>VHL18827</td>\n",
       "      <td>Ibadan</td>\n",
       "      <td>Hyundai</td>\n",
       "      <td>Sonata</td>\n",
       "      <td>2,012</td>\n",
       "      <td>Silver</td>\n",
       "      <td>3.50</td>\n",
       "      <td>Nigerian Used</td>\n",
       "      <td>125,000</td>\n",
       "    </tr>\n",
       "    <tr>\n",
       "      <th>2</th>\n",
       "      <td>VHL19499</td>\n",
       "      <td>Lagos</td>\n",
       "      <td>Lexus</td>\n",
       "      <td>RX 350</td>\n",
       "      <td>2,010</td>\n",
       "      <td>Red</td>\n",
       "      <td>9.20</td>\n",
       "      <td>Foreign Used</td>\n",
       "      <td>110,852</td>\n",
       "    </tr>\n",
       "    <tr>\n",
       "      <th>3</th>\n",
       "      <td>VHL17991</td>\n",
       "      <td>Abuja</td>\n",
       "      <td>Mercedes-Benz</td>\n",
       "      <td>GLE-Class</td>\n",
       "      <td>2,017</td>\n",
       "      <td>Blue</td>\n",
       "      <td>22.80</td>\n",
       "      <td>Foreign Used</td>\n",
       "      <td>30,000</td>\n",
       "    </tr>\n",
       "    <tr>\n",
       "      <th>4</th>\n",
       "      <td>VHL12170</td>\n",
       "      <td>Ibadan</td>\n",
       "      <td>Toyota</td>\n",
       "      <td>Highlander</td>\n",
       "      <td>2,002</td>\n",
       "      <td>Red</td>\n",
       "      <td>2.60</td>\n",
       "      <td>Nigerian Used</td>\n",
       "      <td>125,206</td>\n",
       "    </tr>\n",
       "    <tr>\n",
       "      <th>...</th>\n",
       "      <td>...</td>\n",
       "      <td>...</td>\n",
       "      <td>...</td>\n",
       "      <td>...</td>\n",
       "      <td>...</td>\n",
       "      <td>...</td>\n",
       "      <td>...</td>\n",
       "      <td>...</td>\n",
       "      <td>...</td>\n",
       "    </tr>\n",
       "    <tr>\n",
       "      <th>7200</th>\n",
       "      <td>VHL14329</td>\n",
       "      <td>Abuja</td>\n",
       "      <td>Honda</td>\n",
       "      <td>Civic</td>\n",
       "      <td>2,018</td>\n",
       "      <td>Gray</td>\n",
       "      <td>5.70</td>\n",
       "      <td>Foreign Used</td>\n",
       "      <td>65,000</td>\n",
       "    </tr>\n",
       "    <tr>\n",
       "      <th>7201</th>\n",
       "      <td>VHL10637</td>\n",
       "      <td>Abuja</td>\n",
       "      <td>BMW</td>\n",
       "      <td>X3</td>\n",
       "      <td>2,007</td>\n",
       "      <td>White</td>\n",
       "      <td>4.00</td>\n",
       "      <td>Nigerian Used</td>\n",
       "      <td>200,000</td>\n",
       "    </tr>\n",
       "    <tr>\n",
       "      <th>7202</th>\n",
       "      <td>VHL19734</td>\n",
       "      <td>Abuja</td>\n",
       "      <td>Toyota</td>\n",
       "      <td>RAV4 2.5 Limited 4x4</td>\n",
       "      <td>2,010</td>\n",
       "      <td>Black</td>\n",
       "      <td>2.85</td>\n",
       "      <td>Nigerian Used</td>\n",
       "      <td>NaN</td>\n",
       "    </tr>\n",
       "    <tr>\n",
       "      <th>7203</th>\n",
       "      <td>VHL15569</td>\n",
       "      <td>Lagos</td>\n",
       "      <td>Mercedes-Benz</td>\n",
       "      <td>GLK-Class 350</td>\n",
       "      <td>2,012</td>\n",
       "      <td>Black</td>\n",
       "      <td>8.65</td>\n",
       "      <td>Foreign Used</td>\n",
       "      <td>85,750</td>\n",
       "    </tr>\n",
       "    <tr>\n",
       "      <th>7204</th>\n",
       "      <td>VHL15246</td>\n",
       "      <td>Abuja</td>\n",
       "      <td>Honda</td>\n",
       "      <td>Accord Crosstour</td>\n",
       "      <td>2,012</td>\n",
       "      <td>Gray</td>\n",
       "      <td>3.38</td>\n",
       "      <td>Nigerian Used</td>\n",
       "      <td>83,308</td>\n",
       "    </tr>\n",
       "  </tbody>\n",
       "</table>\n",
       "<p>7205 rows × 9 columns</p>\n",
       "</div>"
      ],
      "text/plain": [
       "     VehicleID Location          Maker                 Model   Year  Colour  \\\n",
       "0     VHL12546    Abuja          Honda   Accord Coupe EX V-6  2,011  Silver   \n",
       "1     VHL18827   Ibadan        Hyundai                Sonata  2,012  Silver   \n",
       "2     VHL19499    Lagos          Lexus                RX 350  2,010     Red   \n",
       "3     VHL17991    Abuja  Mercedes-Benz             GLE-Class  2,017    Blue   \n",
       "4     VHL12170   Ibadan         Toyota            Highlander  2,002     Red   \n",
       "...        ...      ...            ...                   ...    ...     ...   \n",
       "7200  VHL14329    Abuja          Honda                 Civic  2,018    Gray   \n",
       "7201  VHL10637    Abuja            BMW                    X3  2,007   White   \n",
       "7202  VHL19734    Abuja         Toyota  RAV4 2.5 Limited 4x4  2,010   Black   \n",
       "7203  VHL15569    Lagos  Mercedes-Benz         GLK-Class 350  2,012   Black   \n",
       "7204  VHL15246    Abuja          Honda      Accord Crosstour  2,012    Gray   \n",
       "\n",
       "      Amount (Million Naira)           Type Distance  \n",
       "0                       2.20  Nigerian Used      NaN  \n",
       "1                       3.50  Nigerian Used  125,000  \n",
       "2                       9.20   Foreign Used  110,852  \n",
       "3                      22.80   Foreign Used   30,000  \n",
       "4                       2.60  Nigerian Used  125,206  \n",
       "...                      ...            ...      ...  \n",
       "7200                    5.70   Foreign Used   65,000  \n",
       "7201                    4.00  Nigerian Used  200,000  \n",
       "7202                    2.85  Nigerian Used      NaN  \n",
       "7203                    8.65   Foreign Used   85,750  \n",
       "7204                    3.38  Nigerian Used   83,308  \n",
       "\n",
       "[7205 rows x 9 columns]"
      ]
     },
     "execution_count": 3,
     "metadata": {},
     "output_type": "execute_result"
    }
   ],
   "source": [
    "train"
   ]
  },
  {
   "cell_type": "code",
   "execution_count": 4,
   "id": "97492e5b",
   "metadata": {},
   "outputs": [
    {
     "data": {
      "text/html": [
       "<div>\n",
       "<style scoped>\n",
       "    .dataframe tbody tr th:only-of-type {\n",
       "        vertical-align: middle;\n",
       "    }\n",
       "\n",
       "    .dataframe tbody tr th {\n",
       "        vertical-align: top;\n",
       "    }\n",
       "\n",
       "    .dataframe thead th {\n",
       "        text-align: right;\n",
       "    }\n",
       "</style>\n",
       "<table border=\"1\" class=\"dataframe\">\n",
       "  <thead>\n",
       "    <tr style=\"text-align: right;\">\n",
       "      <th></th>\n",
       "      <th>VehicleID</th>\n",
       "      <th>Location</th>\n",
       "      <th>Maker</th>\n",
       "      <th>Model</th>\n",
       "      <th>Year</th>\n",
       "      <th>Colour</th>\n",
       "      <th>Type</th>\n",
       "      <th>Distance</th>\n",
       "    </tr>\n",
       "  </thead>\n",
       "  <tbody>\n",
       "    <tr>\n",
       "      <th>0</th>\n",
       "      <td>VHL18518</td>\n",
       "      <td>Abuja</td>\n",
       "      <td>BMW</td>\n",
       "      <td>323i</td>\n",
       "      <td>2,008</td>\n",
       "      <td>White</td>\n",
       "      <td>Foreign Used</td>\n",
       "      <td>30524.0</td>\n",
       "    </tr>\n",
       "    <tr>\n",
       "      <th>1</th>\n",
       "      <td>VHL17149</td>\n",
       "      <td>Lagos</td>\n",
       "      <td>Toyota</td>\n",
       "      <td>Camry</td>\n",
       "      <td>2,013</td>\n",
       "      <td>White</td>\n",
       "      <td>Foreign Used</td>\n",
       "      <td>NaN</td>\n",
       "    </tr>\n",
       "    <tr>\n",
       "      <th>2</th>\n",
       "      <td>VHL10927</td>\n",
       "      <td>Lagos</td>\n",
       "      <td>Toyota</td>\n",
       "      <td>Highlander Limited V6</td>\n",
       "      <td>2,005</td>\n",
       "      <td>Gold</td>\n",
       "      <td>Foreign Used</td>\n",
       "      <td>NaN</td>\n",
       "    </tr>\n",
       "    <tr>\n",
       "      <th>3</th>\n",
       "      <td>VHL12909</td>\n",
       "      <td>Lagos</td>\n",
       "      <td>Toyota</td>\n",
       "      <td>Camry</td>\n",
       "      <td>2,011</td>\n",
       "      <td>Gray</td>\n",
       "      <td>Foreign Used</td>\n",
       "      <td>166839.0</td>\n",
       "    </tr>\n",
       "    <tr>\n",
       "      <th>4</th>\n",
       "      <td>VHL12348</td>\n",
       "      <td>Lagos</td>\n",
       "      <td>Lexus</td>\n",
       "      <td>ES 350 FWD</td>\n",
       "      <td>2,013</td>\n",
       "      <td>Red</td>\n",
       "      <td>Foreign Used</td>\n",
       "      <td>88862.0</td>\n",
       "    </tr>\n",
       "    <tr>\n",
       "      <th>...</th>\n",
       "      <td>...</td>\n",
       "      <td>...</td>\n",
       "      <td>...</td>\n",
       "      <td>...</td>\n",
       "      <td>...</td>\n",
       "      <td>...</td>\n",
       "      <td>...</td>\n",
       "      <td>...</td>\n",
       "    </tr>\n",
       "    <tr>\n",
       "      <th>2056</th>\n",
       "      <td>VHL17903</td>\n",
       "      <td>Abuja</td>\n",
       "      <td>Toyota</td>\n",
       "      <td>Avalon</td>\n",
       "      <td>2,020</td>\n",
       "      <td>Red</td>\n",
       "      <td>Foreign Used</td>\n",
       "      <td>2650.0</td>\n",
       "    </tr>\n",
       "    <tr>\n",
       "      <th>2057</th>\n",
       "      <td>VHL14018</td>\n",
       "      <td>Ibadan</td>\n",
       "      <td>Audi</td>\n",
       "      <td>Q5</td>\n",
       "      <td>2,011</td>\n",
       "      <td>Blue</td>\n",
       "      <td>Foreign Used</td>\n",
       "      <td>99000.0</td>\n",
       "    </tr>\n",
       "    <tr>\n",
       "      <th>2058</th>\n",
       "      <td>VHL17473</td>\n",
       "      <td>Ibadan</td>\n",
       "      <td>Toyota</td>\n",
       "      <td>Camry</td>\n",
       "      <td>2,015</td>\n",
       "      <td>Black</td>\n",
       "      <td>Foreign Used</td>\n",
       "      <td>108000.0</td>\n",
       "    </tr>\n",
       "    <tr>\n",
       "      <th>2059</th>\n",
       "      <td>VHL11480</td>\n",
       "      <td>Abuja</td>\n",
       "      <td>Lexus</td>\n",
       "      <td>IS 350 AWD</td>\n",
       "      <td>2,013</td>\n",
       "      <td>White</td>\n",
       "      <td>Foreign Used</td>\n",
       "      <td>52485.0</td>\n",
       "    </tr>\n",
       "    <tr>\n",
       "      <th>2060</th>\n",
       "      <td>VHL13881</td>\n",
       "      <td>Abuja</td>\n",
       "      <td>Pontiac</td>\n",
       "      <td>Torrent</td>\n",
       "      <td>2,009</td>\n",
       "      <td>Silver</td>\n",
       "      <td>Foreign Used</td>\n",
       "      <td>124088.0</td>\n",
       "    </tr>\n",
       "  </tbody>\n",
       "</table>\n",
       "<p>2061 rows × 8 columns</p>\n",
       "</div>"
      ],
      "text/plain": [
       "     VehicleID Location    Maker                  Model   Year  Colour  \\\n",
       "0     VHL18518    Abuja      BMW                   323i  2,008   White   \n",
       "1     VHL17149    Lagos   Toyota                  Camry  2,013   White   \n",
       "2     VHL10927    Lagos   Toyota  Highlander Limited V6  2,005    Gold   \n",
       "3     VHL12909    Lagos   Toyota                  Camry  2,011    Gray   \n",
       "4     VHL12348    Lagos    Lexus             ES 350 FWD  2,013     Red   \n",
       "...        ...      ...      ...                    ...    ...     ...   \n",
       "2056  VHL17903    Abuja   Toyota                 Avalon  2,020     Red   \n",
       "2057  VHL14018   Ibadan     Audi                     Q5  2,011    Blue   \n",
       "2058  VHL17473   Ibadan   Toyota                  Camry  2,015   Black   \n",
       "2059  VHL11480    Abuja    Lexus             IS 350 AWD  2,013   White   \n",
       "2060  VHL13881    Abuja  Pontiac                Torrent  2,009  Silver   \n",
       "\n",
       "              Type  Distance  \n",
       "0     Foreign Used   30524.0  \n",
       "1     Foreign Used       NaN  \n",
       "2     Foreign Used       NaN  \n",
       "3     Foreign Used  166839.0  \n",
       "4     Foreign Used   88862.0  \n",
       "...            ...       ...  \n",
       "2056  Foreign Used    2650.0  \n",
       "2057  Foreign Used   99000.0  \n",
       "2058  Foreign Used  108000.0  \n",
       "2059  Foreign Used   52485.0  \n",
       "2060  Foreign Used  124088.0  \n",
       "\n",
       "[2061 rows x 8 columns]"
      ]
     },
     "execution_count": 4,
     "metadata": {},
     "output_type": "execute_result"
    }
   ],
   "source": [
    "test"
   ]
  },
  {
   "cell_type": "markdown",
   "id": "ff3e1d6e",
   "metadata": {},
   "source": [
    "## DATA PREPROCESSING"
   ]
  },
  {
   "cell_type": "code",
   "execution_count": 5,
   "id": "7c6aba59",
   "metadata": {},
   "outputs": [
    {
     "name": "stdout",
     "output_type": "stream",
     "text": [
      "<class 'pandas.core.frame.DataFrame'>\n",
      "RangeIndex: 7205 entries, 0 to 7204\n",
      "Data columns (total 9 columns):\n",
      " #   Column                  Non-Null Count  Dtype  \n",
      "---  ------                  --------------  -----  \n",
      " 0   VehicleID               7205 non-null   object \n",
      " 1   Location                7205 non-null   object \n",
      " 2   Maker                   7205 non-null   object \n",
      " 3   Model                   7205 non-null   object \n",
      " 4   Year                    7184 non-null   object \n",
      " 5   Colour                  7205 non-null   object \n",
      " 6   Amount (Million Naira)  7188 non-null   float64\n",
      " 7   Type                    7008 non-null   object \n",
      " 8   Distance                4845 non-null   object \n",
      "dtypes: float64(1), object(8)\n",
      "memory usage: 506.7+ KB\n"
     ]
    }
   ],
   "source": [
    "train.info()"
   ]
  },
  {
   "cell_type": "code",
   "execution_count": 6,
   "id": "5a796603",
   "metadata": {},
   "outputs": [
    {
     "name": "stdout",
     "output_type": "stream",
     "text": [
      "<class 'pandas.core.frame.DataFrame'>\n",
      "RangeIndex: 2061 entries, 0 to 2060\n",
      "Data columns (total 8 columns):\n",
      " #   Column     Non-Null Count  Dtype  \n",
      "---  ------     --------------  -----  \n",
      " 0   VehicleID  2061 non-null   object \n",
      " 1   Location   2061 non-null   object \n",
      " 2   Maker      2061 non-null   object \n",
      " 3   Model      2061 non-null   object \n",
      " 4   Year       2059 non-null   object \n",
      " 5   Colour     2061 non-null   object \n",
      " 6   Type       2007 non-null   object \n",
      " 7   Distance   1385 non-null   float64\n",
      "dtypes: float64(1), object(7)\n",
      "memory usage: 128.9+ KB\n"
     ]
    }
   ],
   "source": [
    "test.info()"
   ]
  },
  {
   "cell_type": "code",
   "execution_count": 7,
   "id": "14c8df84",
   "metadata": {},
   "outputs": [],
   "source": [
    "train.drop(\"VehicleID\", axis=1, inplace=True)\n",
    "test.drop(\"VehicleID\", axis=1, inplace=True)\n",
    "#dropping columns"
   ]
  },
  {
   "cell_type": "code",
   "execution_count": 8,
   "id": "2c12b3df",
   "metadata": {},
   "outputs": [
    {
     "data": {
      "text/plain": [
       "Index(['Location', 'Maker', 'Model', 'Year', 'Colour',\n",
       "       'Amount (Million Naira)', 'Type', 'Distance'],\n",
       "      dtype='object')"
      ]
     },
     "execution_count": 8,
     "metadata": {},
     "output_type": "execute_result"
    }
   ],
   "source": [
    "train.columns"
   ]
  },
  {
   "cell_type": "code",
   "execution_count": 9,
   "id": "1f5062f0",
   "metadata": {},
   "outputs": [
    {
     "data": {
      "text/plain": [
       "Index(['Location', 'Maker', 'Model', 'Year', 'Colour', 'Type', 'Distance'], dtype='object')"
      ]
     },
     "execution_count": 9,
     "metadata": {},
     "output_type": "execute_result"
    }
   ],
   "source": [
    "test.columns"
   ]
  },
  {
   "cell_type": "code",
   "execution_count": 10,
   "id": "173d9f07",
   "metadata": {},
   "outputs": [
    {
     "data": {
      "text/plain": [
       "Location                     0\n",
       "Maker                        0\n",
       "Model                        0\n",
       "Year                        21\n",
       "Colour                       0\n",
       "Amount (Million Naira)      17\n",
       "Type                       197\n",
       "Distance                  2360\n",
       "dtype: int64"
      ]
     },
     "execution_count": 10,
     "metadata": {},
     "output_type": "execute_result"
    }
   ],
   "source": [
    "train.isnull().sum()\n",
    "# checking for the number of null values present in the train data"
   ]
  },
  {
   "cell_type": "code",
   "execution_count": 11,
   "id": "bf2cbfc3",
   "metadata": {},
   "outputs": [
    {
     "data": {
      "text/plain": [
       "Location      0\n",
       "Maker         0\n",
       "Model         0\n",
       "Year          2\n",
       "Colour        0\n",
       "Type         54\n",
       "Distance    676\n",
       "dtype: int64"
      ]
     },
     "execution_count": 11,
     "metadata": {},
     "output_type": "execute_result"
    }
   ],
   "source": [
    "test.isnull().sum()\n",
    "# checking for the number of null values present in the test data"
   ]
  },
  {
   "cell_type": "code",
   "execution_count": 12,
   "id": "4947e4e0",
   "metadata": {},
   "outputs": [
    {
     "name": "stdout",
     "output_type": "stream",
     "text": [
      "2,008\n"
     ]
    }
   ],
   "source": [
    "train_modal_year=train[\"Year\"].mode()[0]\n",
    "print(train_modal_year)\n",
    "train[\"Year\"].fillna(train_modal_year, inplace=True)\n",
    "#replacing null values with mode"
   ]
  },
  {
   "cell_type": "code",
   "execution_count": 13,
   "id": "7631f172",
   "metadata": {},
   "outputs": [
    {
     "name": "stdout",
     "output_type": "stream",
     "text": [
      "2,008\n"
     ]
    }
   ],
   "source": [
    "test_modal_year= test[\"Year\"].mode()[0]\n",
    "print(test_modal_year)\n",
    "test[\"Year\"].fillna(test_modal_year, inplace=True)\n",
    "#replacing null values with mode"
   ]
  },
  {
   "cell_type": "code",
   "execution_count": 14,
   "id": "e99f1067",
   "metadata": {},
   "outputs": [
    {
     "name": "stdout",
     "output_type": "stream",
     "text": [
      "11.847999443516994\n"
     ]
    }
   ],
   "source": [
    "train_mean_amount= train[\"Amount (Million Naira)\"].mean()\n",
    "print(train_mean_amount)\n",
    "train[\"Amount (Million Naira)\"].fillna(train_mean_amount, inplace=True)\n",
    "#replacing null values with mean"
   ]
  },
  {
   "cell_type": "code",
   "execution_count": 15,
   "id": "393b96a5",
   "metadata": {},
   "outputs": [],
   "source": [
    "def replace(s):\n",
    "    i=str(s).find(\",\")\n",
    "    if(i>0):\n",
    "        return s[:i] + s[i+1:]\n",
    "    else:\n",
    "        return s\n",
    "#the distance column of the train dataset came as an object datatype and we have to convert the datatype to float to fill in null values. The code above is used to iterate through each value in the distance column to remove the comma\n"
   ]
  },
  {
   "cell_type": "code",
   "execution_count": 16,
   "id": "0a2c34c4",
   "metadata": {},
   "outputs": [],
   "source": [
    "train[\"Distance\"]= train[\"Distance\"].apply(replace)\n",
    "#the iteration above was then applied to the dataframe distance from the train dataset"
   ]
  },
  {
   "cell_type": "code",
   "execution_count": 17,
   "id": "83516152",
   "metadata": {},
   "outputs": [],
   "source": [
    "train[\"Distance\"]= pd.to_numeric(train[\"Distance\"], errors=\"coerce\")\n",
    "# the train column was then converted from object to float datatype with this line of code"
   ]
  },
  {
   "cell_type": "code",
   "execution_count": 18,
   "id": "95e3824f",
   "metadata": {},
   "outputs": [
    {
     "name": "stdout",
     "output_type": "stream",
     "text": [
      "<class 'pandas.core.frame.DataFrame'>\n",
      "RangeIndex: 7205 entries, 0 to 7204\n",
      "Data columns (total 8 columns):\n",
      " #   Column                  Non-Null Count  Dtype  \n",
      "---  ------                  --------------  -----  \n",
      " 0   Location                7205 non-null   object \n",
      " 1   Maker                   7205 non-null   object \n",
      " 2   Model                   7205 non-null   object \n",
      " 3   Year                    7205 non-null   object \n",
      " 4   Colour                  7205 non-null   object \n",
      " 5   Amount (Million Naira)  7205 non-null   float64\n",
      " 6   Type                    7008 non-null   object \n",
      " 7   Distance                4834 non-null   float64\n",
      "dtypes: float64(2), object(6)\n",
      "memory usage: 450.4+ KB\n"
     ]
    }
   ],
   "source": [
    "train.info()"
   ]
  },
  {
   "cell_type": "code",
   "execution_count": 19,
   "id": "4b6bb600",
   "metadata": {},
   "outputs": [
    {
     "data": {
      "text/plain": [
       "0          NaN\n",
       "1     125000.0\n",
       "2     110852.0\n",
       "3      30000.0\n",
       "4     125206.0\n",
       "5          NaN\n",
       "6          NaN\n",
       "7          NaN\n",
       "8     350882.0\n",
       "9     179638.0\n",
       "10     75858.0\n",
       "11    111289.0\n",
       "12    126075.0\n",
       "13         NaN\n",
       "14     16000.0\n",
       "15         NaN\n",
       "16     52352.0\n",
       "17      7523.0\n",
       "18         NaN\n",
       "19     75300.0\n",
       "20    170671.0\n",
       "21      9000.0\n",
       "22         NaN\n",
       "23     20189.0\n",
       "24     40000.0\n",
       "25    100000.0\n",
       "26         NaN\n",
       "27     85474.0\n",
       "28     42483.0\n",
       "29     49000.0\n",
       "30    140000.0\n",
       "31    128885.0\n",
       "32     96000.0\n",
       "33    130000.0\n",
       "34    118285.0\n",
       "35         NaN\n",
       "36    124540.0\n",
       "37     88800.0\n",
       "38       100.0\n",
       "39     52000.0\n",
       "40         NaN\n",
       "41    180003.0\n",
       "42         NaN\n",
       "43     50000.0\n",
       "44         NaN\n",
       "45    120213.0\n",
       "46     32000.0\n",
       "47      4000.0\n",
       "48         NaN\n",
       "49         NaN\n",
       "Name: Distance, dtype: float64"
      ]
     },
     "execution_count": 19,
     "metadata": {},
     "output_type": "execute_result"
    }
   ],
   "source": [
    "train[\"Distance\"].head(50)"
   ]
  },
  {
   "cell_type": "code",
   "execution_count": 20,
   "id": "c432fe3d",
   "metadata": {},
   "outputs": [
    {
     "name": "stdout",
     "output_type": "stream",
     "text": [
      "100453.86677699628\n"
     ]
    }
   ],
   "source": [
    "train_mean_distance=train[\"Distance\"].mean()\n",
    "print(train_mean_distance)\n",
    "train[\"Distance\"].fillna(train_mean_distance,  inplace=True)\n",
    "#the null values where then filled"
   ]
  },
  {
   "cell_type": "code",
   "execution_count": 21,
   "id": "927c9cf3",
   "metadata": {},
   "outputs": [
    {
     "name": "stdout",
     "output_type": "stream",
     "text": [
      "103800.66859205776\n"
     ]
    }
   ],
   "source": [
    "test_mean_distance=test[\"Distance\"].mean()\n",
    "print(test_mean_distance)\n",
    "test[\"Distance\"].fillna(test_mean_distance,  inplace=True)\n",
    "#the test dataset already came with datatype float for the distance column so the null values were replaced with the mean value immediately"
   ]
  },
  {
   "cell_type": "code",
   "execution_count": 22,
   "id": "a45ce578",
   "metadata": {},
   "outputs": [
    {
     "data": {
      "text/plain": [
       "Location                    0\n",
       "Maker                       0\n",
       "Model                       0\n",
       "Year                        0\n",
       "Colour                      0\n",
       "Amount (Million Naira)      0\n",
       "Type                      197\n",
       "Distance                    0\n",
       "dtype: int64"
      ]
     },
     "execution_count": 22,
     "metadata": {},
     "output_type": "execute_result"
    }
   ],
   "source": [
    "train.isnull().sum()\n",
    "# still checking for null values in the train dataset..."
   ]
  },
  {
   "cell_type": "code",
   "execution_count": 23,
   "id": "7b8cd7bb",
   "metadata": {},
   "outputs": [
    {
     "data": {
      "text/plain": [
       "Location     0\n",
       "Maker        0\n",
       "Model        0\n",
       "Year         0\n",
       "Colour       0\n",
       "Type        54\n",
       "Distance     0\n",
       "dtype: int64"
      ]
     },
     "execution_count": 23,
     "metadata": {},
     "output_type": "execute_result"
    }
   ],
   "source": [
    "test.isnull().sum()\n",
    "# still checking for null values in the test dataset..."
   ]
  },
  {
   "cell_type": "code",
   "execution_count": 24,
   "id": "0b286321",
   "metadata": {},
   "outputs": [
    {
     "data": {
      "text/plain": [
       "Location                  False\n",
       "Maker                     False\n",
       "Model                     False\n",
       "Year                      False\n",
       "Colour                    False\n",
       "Amount (Million Naira)    False\n",
       "Type                       True\n",
       "Distance                  False\n",
       "dtype: bool"
      ]
     },
     "execution_count": 24,
     "metadata": {},
     "output_type": "execute_result"
    }
   ],
   "source": [
    "train.isnull().any()\n",
    "# dataframe type was found to contain null values..."
   ]
  },
  {
   "cell_type": "code",
   "execution_count": 25,
   "id": "b7ac7333",
   "metadata": {},
   "outputs": [
    {
     "name": "stdout",
     "output_type": "stream",
     "text": [
      "Foreign Used\n"
     ]
    }
   ],
   "source": [
    "mode_train_type= train[\"Type\"].mode()[0]\n",
    "print(mode_train_type)\n",
    "train[\"Type\"].fillna(mode_train_type, inplace=True)\n",
    "# It was then filled with the modal attribute"
   ]
  },
  {
   "cell_type": "code",
   "execution_count": 26,
   "id": "9cd74d11",
   "metadata": {},
   "outputs": [
    {
     "name": "stdout",
     "output_type": "stream",
     "text": [
      "Foreign Used\n"
     ]
    }
   ],
   "source": [
    "mode_test_type= test[\"Type\"].mode()[0]\n",
    "print(mode_test_type)\n",
    "test[\"Type\"].fillna(mode_test_type, inplace=True)\n",
    "# It was also filled with the modal attribute"
   ]
  },
  {
   "cell_type": "code",
   "execution_count": 27,
   "id": "810ef972",
   "metadata": {},
   "outputs": [
    {
     "data": {
      "text/plain": [
       "Location    False\n",
       "Maker       False\n",
       "Model       False\n",
       "Year        False\n",
       "Colour      False\n",
       "Type        False\n",
       "Distance    False\n",
       "dtype: bool"
      ]
     },
     "execution_count": 27,
     "metadata": {},
     "output_type": "execute_result"
    }
   ],
   "source": [
    "test.isnull().any()\n",
    "#confirmation that null values have been completely filled up"
   ]
  },
  {
   "cell_type": "code",
   "execution_count": 28,
   "id": "3bb7bc78",
   "metadata": {},
   "outputs": [
    {
     "name": "stdout",
     "output_type": "stream",
     "text": [
      "Maker:['Honda' 'Hyundai' 'Lexus' 'Mercedes-Benz' 'Toyota' 'Acura' 'Dodge'\n",
      " 'Nissan' 'Kia' 'BMW' 'Volvo' 'Ford' 'Land Rover' 'Lincoln' 'Peugeot'\n",
      " 'Chevrolet' 'Audi' 'Jaguar' 'Infiniti' 'Porsche' 'Fiat' 'Maserati'\n",
      " 'Volkswagen' 'Suzuki' 'Bentley' 'GAC' 'Mazda' 'Scion' 'Renault'\n",
      " 'Mitsubishi' 'Mini' 'Pontiac' 'Cadillac' 'Ferrari' 'Jeep' 'Buick'\n",
      " 'Rolls-Royce' 'GMC' 'Chrysler' 'Lamborghini' 'Citroen' 'King' 'BAW'\n",
      " 'Saturn' 'Tata' 'Opel' 'JAC' 'MG' 'Hummer' 'Subaru' 'Rover' 'Saab'\n",
      " 'Skoda' 'IVM' 'Brabus']\n",
      "Maker:['BMW' 'Toyota' 'Lexus' 'Mercedes-Benz' 'Honda' 'Pontiac' 'Hyundai'\n",
      " 'Land Rover' 'Mitsubishi' 'Volkswagen' 'Acura' 'Mazda' 'Ford' 'Jaguar'\n",
      " 'Opel' 'Infiniti' 'Kia' 'Peugeot' 'Nissan' 'Chevrolet' 'Cadillac' 'Seat'\n",
      " 'Audi' 'Porsche' 'Dodge' 'GMC' 'Renault' 'Lincoln' 'Maserati' 'Chrysler'\n",
      " 'Fiat' 'Subaru' 'Mini' 'Scion' 'Buick' 'Rolls-Royce' 'Volvo' 'Jeep'\n",
      " 'Lamborghini' 'Brabus']\n",
      "##################################################\n",
      "Colour:['Silver' 'Red' 'Blue' 'Black' 'Gold' 'White' 'Gray' 'Burgandy' 'Green'\n",
      " 'Violet' 'Brown' 'Yellow' 'Orange' 'Pink' 'Beige' 'Purple' 'Ivory' 'G'\n",
      " 'Teal' 'Mica' 'Pearl']\n",
      "Colour:['White' 'Gold' 'Gray' 'Red' 'Black' 'Blue' 'Silver' 'Brown' 'Green'\n",
      " 'Purple' 'Beige' 'Burgandy' 'Auto' 'Cream' 'Pink' 'Yellow' 'V' 'Teal']\n",
      "##################################################\n",
      "Model:['Accord Coupe EX V-6' 'Sonata' 'RX 350' ... 'Almera 1.6 Lux'\n",
      " 'X5 3.0i Sports Activity' '320i SV Premium']\n",
      "Model:['323i' 'Camry' 'Highlander Limited V6' 'ES 350 FWD' 'GLE-Class'\n",
      " 'Sienna LE 4dr' 'ES 350' 'CR-V' 'RAV4 XLE FWD' 'RX' 'Sequoia'\n",
      " '4-Runner Limited' 'Corolla LE' 'Accord' 'Highlander SE' 'Vibe AWD'\n",
      " 'RX 350 F Sport FWD' 'Creta' 'Range Rover Vogue' 'E320'\n",
      " 'Land Cruiser Prado' 'Sonata' 'Sienna' '4-Runner Limited 4WD' 'C300'\n",
      " 'E350' 'L200 Double Cab 2.5 136hp' 'Avalon XLE Plus (3.5L 6cyl 6A)'\n",
      " '4-Runner' 'RX 330' 'Touareg' 'GX 460 Base' 'GL-Class' 'M Class'\n",
      " 'M Class ML 350 4Matic' 'GLK-Class' 'ES' 'Corolla' 'TLX' 'LX 570 Base'\n",
      " 'Hilux' 'RX 350' 'IS 350' 'Premacy' 'Venza XLE AWD V6' 'RX 350 AWD'\n",
      " 'E300' 'Edge SE 4dr FWD (3.5L 6cyl 6A)' 'Corolla CE' 'Venza AWD' 'Xj'\n",
      " 'Zafira' 'Highlander 3' 'Camry SE FWD (2.5L 4cyl 8AM)' 'X5 3.0i'\n",
      " 'Genesis' 'RVR' 'X3 xDrive30i AWD' 'Highlander XLE V6 4x2 (3.5L 6cyl 6A)'\n",
      " 'RX 300' 'Venza' 'GX 460' 'EX 35' 'S-Class S 63 AMG 4MATIC (W222)'\n",
      " 'C-Class C 350 (S204)' 'Venza V6' 'S-Class' 'Sienna LE AWD'\n",
      " 'Highlander Limited 3.5L 2WD' 'Santa Fe GLS' 'Sharan Automatic'\n",
      " 'MDX Base SH-AWD' 'Kia Sorento' 'Civic LX Sedan'\n",
      " 'Range Rover Sport HSE Lux' 'Santa Fe' 'Corolla 1.4 Advanced'\n",
      " 'Tacoma 4x4 Access Cab' 'CLA-Class' 'LX 570 AWD' 'GX 470 Sport Utility'\n",
      " '407 2 HDi FAP Esplanade' 'X6' 'Explorer' 'GLS-Class GLS550 4Matic'\n",
      " '4-Runner Limited 4x4' 'Avensis 2 Advanced Automatic' 'Hilux SR 4x4'\n",
      " 'Land Cruiser Prado 3 D-4D 3dr' 'Rover LR3 SE' 'Sonata 2.4 Automatic'\n",
      " 'Golf' 'Highlander Limited FWD' 'C-Class C 450 AMG 4MATIC (S205)'\n",
      " 'RAV4 Automatic' 'Land Cruiser Prado 3 190hp' 'GL Class' 'F-150' 'Tacoma'\n",
      " 'RAV4' 'NX' 'LX 570 (5 Seats) AWD' 'Fusion' 'Hilux 2 VVT-i SRX'\n",
      " 'Highlander XLE 4x4 V6 (3.5L 6cyl 8A)' 'GS'\n",
      " 'Tacoma Regular Cab Automatic' 'RX 350 XE 4x4' 'Ix35' '6 Series'\n",
      " 'GLC-Class' 'Outlander' 'GLS-Class GLS350d 4Matic' 'LX' 'Tundra'\n",
      " 'Civic Sedan EX Automatic' 'GLK-Class 350 4MATIC' 'Previa'\n",
      " 'GX 460 Luxury' 'E550' '4-Runner Limited V6 4x4' 'Sienna LE 7 Passenger'\n",
      " 'Highlander' 'IS' 'RX 350 FWD' 'Versa' 'Escape XLS Automatic'\n",
      " 'Sorento 3.3L SXL FWD' 'Accord Automatic' 'Land Cruiser 5.7 V8 VXR'\n",
      " 'Highlander 3.5L 4WD' 'LX 570' 'CR-V 2.4 EX 4x4 Automatic'\n",
      " 'Corolla LE Eco (1.8L 4cyl 2A)' 'RAV4 XLE AWD' 'Vibe' 'Elantra'\n",
      " 'Element EX 4WD' 'Avalon Touring' 'Sienna XLE' 'Highlander Limited' 'GX'\n",
      " 'RAV4 2.4' 'MDX' 'Sunny' 'C350' 'Camaro LS Coupe' 'Avalon' 'Land Cruiser'\n",
      " 'GLS-Class GLS450 4MATIC' 'Shuttle 2.2 2WD' 'Corolla 1.8 VVTL-i TS'\n",
      " 'G-Class G 63 AMG 4MATIC' 'Edge' 'ES 330 Sedan' '508'\n",
      " 'RAV4 XLE AWD (2.5L 4cyl 6A)' 'Cadillac Escalade Matt' 'GL-Class GL 450'\n",
      " 'S-Class S 550' 'CR-V EX AWD' 'Corolla SE (1.8L 4cyl 6M)' 'IS 250'\n",
      " 'Ibiza' 'Sienna XLE Limited FWD' 'Cerato' 'Tacoma Double Cab V6 4WD'\n",
      " 'Elantra GLS Automatic' 'RX 300 4WD' 'Highlander Limited V6 FWD' 'Civic'\n",
      " 'ES 300' 'RC 350 AWD' 'RAV4 2.5 Sport' 'IS 250 AWD Automatic'\n",
      " 'A4 2.0T Premium Quattro' 'RAV4 1.8' 'Venza V6 AWD' 'X6 xDrive35i AWD'\n",
      " 'Matrix' 'S-Class Maybach S 560 (X222)' 'Avalon 3' 'C-Hr XLE FWD'\n",
      " 'Venza Limited AWD V6' 'E63' 'Sentra' 'I8 1.5 Roadster' 'ES 330'\n",
      " 'Civic 1.8 5 Door Automatic' 'Corolla Sedan Automatic'\n",
      " 'RX 350L Luxury AWD' 'Camry XLE V6 (3.5L V6 8A)' 'Cayenne' 'RAV4 2 4x4'\n",
      " 'Camaro' 'Tacoma Double Cab V6 Automatic' 'Tacoma 4x4 Double Cab'\n",
      " 'Passat 2 Sedan' 'Pilot EX 4x2 (3.5L 6cyl 5A)' 'Highlander Base AWD'\n",
      " 'Charger RT' 'Rover Lr3 V6' 'Tacoma Double Cab V6' 'Sportage 2 L 4WD'\n",
      " 'Accord 3.5 EX-L Automatic' 'Tacoma Access Cab'\n",
      " 'Sienna XLE FWD (3.3L V6 5A)' 'CLS 55 AMG' 'Rover Discovery'\n",
      " 'Tribute i 4WD Automatic' 'Accent' 'Highlander Sport' 'Avensis 2 D Verso'\n",
      " 'GX 470' 'Solara 3 Convertible' 'Sienna LE' 'BMW 116i'\n",
      " 'RAV4 2.5 Limited 4x4' 'Camry LE FWD (2.5L 4cyl 8AM)' 'GLK-Class 350'\n",
      " 'Range Rover Evoque Off' 'RX 330 4WD' 'RAV4 Limited V6 4x4' 'QX56'\n",
      " 'Pilot' 'Land Cruiser Prado 2.7' '528i' 'Focus 1.8 TDDi Viva' '3 Series'\n",
      " 'M3' '5' 'Civic 1.6i ES Automatic' 'Tundra Double Cab 4x4 Limited'\n",
      " 'Land Cruiser Prado 4' 'Range Rover Velar P380 SE R-Dynamic 4x4'\n",
      " 'M Class ML 320' 'Pick-Up' 'A5' 'E430' 'CX-9' '330i' 'RAV4 Limited 4x4'\n",
      " 'Odyssey 2.4 Absolute 4WD' 'Rio' 'Rav4' 'Highlander XLE FWD' 'CLS'\n",
      " 'Highlander Limited V6 4x4' 'GL Class GL 450' 'Sienna LE FWD'\n",
      " 'CX-9 Grand Touring' 'Range Rover Sport'\n",
      " 'Land Cruiser Prado 4 V6 Dual VVT-i' 'IS 250 4WD' 'X5'\n",
      " 'Land Cruiser 4.5 V8 VXR' 'MDX SUV 4dr AWD (3.7 6cyl 5A)'\n",
      " 'Corolla 1.6 VVT-i Sol' 'Range Rover' 'Hilux 2 VVT-i' 'NX 200t FWD'\n",
      " '6 Wagon' 'CX-9 Touring AWD' 'Jetta' '328i' 'GS 300 Automatic'\n",
      " 'Pathfinder' 'Ridgeline' 'Hilux 2.8 Diesel' 'Highlander V6'\n",
      " 'Tundra 4x4 SR5 Access Cab' '7 Series' 'C230' 'M Class ML 350 TEC 4Matic'\n",
      " 'R Class' 'Accent SE' 'E-350' 'Accord Sedan EX-L'\n",
      " 'Camry XSE V6 (3.5L V6 8A)' 'IS 350 RWD' 'GLA 250'\n",
      " 'Highlander Limited 3.5l 4WD' 'RX 350 2WD' 'Escape' 'NX 200 FWD' 'TL'\n",
      " 'Hilux SR5+ 4x4' 'Tacoma Access Cab I4 AWD' 'Accord EX V6 Automatic'\n",
      " 'Land Cruiser Prado GX' 'XF Premium' 'RAV4 2.5' 'Veloster' 'G-Class'\n",
      " 'RX 350L 4WD' 'CC' 'RX 400h AWD' '530i' 'Soul' '307' 'RX 350 4WD'\n",
      " 'Veracruz' 'MDX 4dr SUV (3.5L 6cyl 6A)' 'GMC Terrain'\n",
      " 'Camry SE (2.5L 4cyl 8A)' '206 1.4 D' 'Accord Sedan EX Automatic'\n",
      " 'Touran' 'ES 350 Ultra Luxury FWD' 'Venza LE AWD' 'CR-V EX 4WD Automatic'\n",
      " 'Accord 2.4 Exec Automatic' 'Altima' '406' 'RX 350 4x4' 'Sienna CE'\n",
      " 'Edge SE 4dr AWD (2.0L 4cyl 6A)' 'Forte EX'\n",
      " 'Golf 1.6 Comfortline Automatic' 'Sonic LS'\n",
      " 'Pilot EX 4dr SUV (3.5L 6cyl 5A)' 'F-150 FX2' 'RAV4 LE AWD'\n",
      " '6 3.0s Sport Wagon Touring' 'Galaxy 1.9 TDI Trend' 'Avalon XLS'\n",
      " 'Pathfinder Automatic' 'Hilux 2.7 VVT-i 4X4 SRX' 'Duster'\n",
      " 'Sienna LE FWD 8-Passenger' 'Beetle 2 Highline Automatic'\n",
      " 'Tacoma X-Runner V6' 'CR-V EX Automatic' '6' 'X-Trail Automatic' 'C450'\n",
      " 'Avensis' 'Pilot LX 4dr SUV (3.5L 6cyl 5A)' 'NX 200t AWD' 'Xterra SE'\n",
      " 'IS 250 AWD' 'S Class' '626' 'Caliber 1.8' 'Land Cruiser J300 4'\n",
      " 'Range Rover Evoque Pure Plus AWD' 'GX 460 Premium' 'Lincoln Navigator'\n",
      " 'Accord 2.4' 'HiAce' 'Jetta 2.5 SEL' '407 2 Esplanade' 'GLA-Class'\n",
      " 'Crown Royale' 'Accord Crosstour' 'Sienna CE AWD' 'Sienna LE 8 Passenger'\n",
      " 'Venza XLE AWD' 'Land Cruiser Prado 2.7 VVT-i' 'LS 460' 'Taurus'\n",
      " 'Range Rover Velar' 'GLS-Class GLS450 4Matic' 'LS 460 Luxury Sedan'\n",
      " 'Tundra Double Cab' 'Ghibli' 'Gx300' '335i' 'Camry 2.4 LE' 'Focus' '450'\n",
      " 'Passat' 'RX 350 F Sport AWD' 'C400' 'Highlander Limited V6 AWD'\n",
      " 'Caravan' 'ES 350 Crafted Line FWD' 'Sorento' 'Range Rover Evoque Matt'\n",
      " 'Camry 2.3 Hybrid' 'X3' 'C-Hr' 'X-Trail 2.5 4x4' 'Jetta 2.0T Sedan'\n",
      " 'ZDX Base AWD' 'MDX Tech & A-Spec Pkgs SH-AWD' 'Corolla 1.6 VVT-i'\n",
      " 'RAV4 XLE FWD (2.5L 4cyl 6A)' 'Camry Off' 'Accord 2.2 DTEC Estate'\n",
      " 'Land Cruiser Prado 4 I' 'Tacoma Access Cab V6 Automatic'\n",
      " '300 Limited RWD' 'Tacoma SR5' 'A8 4.2 Quattro'\n",
      " '4-Runner SR5 4x4 Premium' '300 Touring RWD 3.5'\n",
      " 'Corolla SE (1.8L 4cyl 2A)' 'Corolla 1.8' 'Camry 2.4 SE'\n",
      " 'Hilux 2.5 D-4d SRX' 'Highlander 4x4' 'Sienna XLE 8 Passenger' 'Ducato'\n",
      " 'Caravan Cargo Van' 'Land Cruiser 5.7 V8' 'X3 xDrive 30i' 'Venza LE FWD'\n",
      " 'E400' 'SC Cabriolet' 'A-Class' 'Corolla LE (1.8L 4cyl 2A)'\n",
      " 'Camry Hybrid' 'Avensis 1.6 VVT-i' 'Accord 2.0i Automatic'\n",
      " 'Rogue S Krom Edition' 'Montero 3.5 AWD' 'S-Class S 450 4MATIC (W221)'\n",
      " 'Camry Automatic' 'Vibe 1.8L' 'A6' 'Impreza' 'X1 xDrive28i AWD'\n",
      " 'Range Rover Evoque' 'GLE-Class Matt' 'Almera' 'Optima' 'Highlander XLE'\n",
      " 'Veloster Automatic' '4-Runner Limited 4X4' 'Rover Freelander' 'MKX'\n",
      " 'Golf GTI 2.0T SE' '406 2 HDi ST' 'GS 300 AWD' 'Vibe Automatic' 'Z4'\n",
      " 'RAV4 V6' 'Cooper' 'xD Base' 'C320' 'Enclave CXL AWD'\n",
      " 'Edge Sport 4dr AWD' 'RAV4 Limited' 'Camry XLE FWD (2.5L 4cyl 8AM)' 'X1'\n",
      " 'Rolls-Royce Cullinan Base' '206' 'Corolla Matt' 'Highlander Limited AWD'\n",
      " 'Previa 2.4 Sol' 'A4' 'Land Cruiser 4.5 V8 GXR' 'TT' 'XC90 4.4 Exec 4WD'\n",
      " 'Liberty' 'Venture' 'Yaris Sedan Automatic' 'CR-V LX AWD' 'Sharan 1.8 T'\n",
      " 'Land Cruiser 4 V6 GX-R' 'Honda CR-V Touring AWD' 'Frontier'\n",
      " 'Zafira 1.8 Automatic' 'E500' 'Hilux 2.7 VVTi 4x4 SRX' 'Odyssey EX-L'\n",
      " 'Hilux SR5 4x4' 'X1 xDrive28i' 'QX80' 'SLK Class'\n",
      " 'Land Cruiser 5.7 V8 VX-S' 'Sienna XLE 7 Passenger' 'F-Pace 25t AWD'\n",
      " 'Cooper S' 'Altima Automatic' 'Venza LE AWD V6' 'Qashqai' 'XC90 3.2'\n",
      " '407 2 ST Comfort' 'Range Rover Velar P380 HSE R-Dynamic 4x4' 'Mkx'\n",
      " 'Vibe 2.4 4WD' 'MKS EcoBoost' 'Solara' 'GLS-Class GLS63 AMG Base'\n",
      " 'Lamborghini Huracan Evo' 'RAV4 3.5 4x4' 'Civic LX Hatchback'\n",
      " 'Santa Fe 2.7 Automatic' 'Corolla Verso 1.8'\n",
      " 'RAV4 LE 4dr SUV (2.5L 4cyl 6A)' 'Highlander Base FWD' 'Odyssey 2.4 4WD'\n",
      " 'Accord Sedan LX' 'Land Rover Discovery' 'Brabus Rocket 900'\n",
      " 'Solara 2.2 Coupe' 'Sentra 2 SL' 'Gs' 'Sienna LE FWD (3.3L V6 5A)'\n",
      " 'Corolla Sedan' 'LX 470 AWD' 'Harrier' 'Escape Off' 'A6 3.2'\n",
      " 'Previa 2.4 GL 7-Seater' 'XJ' 'Land Cruiser 4 V6 GXR' 'Pajero'\n",
      " 'MDX W/Advance Pkg SH-AWD' 'GX 460 Premium Matt' 'ES 350 Luxury'\n",
      " 'Avensis Liftback' '407 2 Automatic' '408' 'S-Class Matt' 'RX 400h'\n",
      " '4-Runner SR5 4x4' 'RAV4 2 VVT-i' 'Beetle 2.5L'\n",
      " 'Corolla XSE (1.8L 4cyl 2A)' '4-Runner Limited V6'\n",
      " 'Pilot EX 4x4 (3.5L 6cyl 5A)' 'A8 L 4.2 Quattro' 'Camry 2.4 SE Automatic'\n",
      " 'RAV4 3.5 Sport 4x4' 'Tundra Automatic' 'Civic EX Sedan' '540i' '407'\n",
      " 'Land Cruiser 4x4' 'CL' 'Beetle' 'RAV4 XLE Premium AWD' 'Camry XLE FWD'\n",
      " 'FR-S 10 Series' 'Pathfinder Platinum 4x4' 'Avalon Limited'\n",
      " 'Land Cruiser 4.6 V8 GXR' 'Caliber 1.8 L SE' 'Accord Sedan EX'\n",
      " 'Matrix Hatchback 1.8 16V AWD' 'Solara 3.3 Convertible'\n",
      " 'LX 570 Three-Row' '230E' 'SLK-Class' 'RX 300 2WD' 'Camry LE FWD'\n",
      " 'Land Cruiser Prado 3 D-4d (190 Hp)' 'Range Rover Velar P340 S 4x4'\n",
      " 'Endeavor SE' 'Escape S 4dr SUV (2.5L 4cyl 6A)' 'Accord 2.4 EX' 'Micra'\n",
      " 'RAV4 LE FWD (2.5L 4cyl 6A)' 'X3 xDrive28i' 'Tacoma PreRunner'\n",
      " '6 2.5i Sport' 'C180' 'Titan' '4-Runner SR5' 'HS 250h' 'Tucson'\n",
      " 'Avalon XLS Buckets' 'ES 330 Off' 'TL Automatic' 'RAV4 Limited V6'\n",
      " 'BMW 7 Series' 'Accord 2.4 Executive' 'RX 330 AWD' 'Malibu LS'\n",
      " 'RX 350 F SPORT AWD' '6 2 MZR Automatic' 'Cube 1.8 S CVT'\n",
      " '4-Runner Trail' 'C250' 'Accord Coupe 3.5 EX-L V6' 'Highlander Sport 4x4'\n",
      " '308 CC 1.6' 'Land Cruiser Prado GXL' 'Q7' 'Tacoma TRD Off Road'\n",
      " 'Charger' 'Q5' 'IS 350 AWD' 'Torrent']\n",
      "##################################################\n",
      "Type:['Nigerian Used' 'Foreign Used' 'Brand New']\n",
      "Type:['Foreign Used' 'Nigerian Used' 'Brand New']\n",
      "##################################################\n",
      "Year:['2,011' '2,012' '2,010' '2,017' '2,002' '2,019' '2,015' '2,004' '2,003'\n",
      " '2,008' '2,018' '2,020' '2,006' '2,016' '2,014' '2,007' '2,009' '2,005'\n",
      " '2,021' '2,013' '2,000' '1,992' '2,001' '1,997' '1,999' '1,993' '1,998'\n",
      " '1,986' '1,996' '2,022' '1,995' '1,979' '1,989']\n",
      "Year:['2,008' '2,013' '2,005' '2,011' '2,017' '1,999' '2,019' '2,006' '2,015'\n",
      " '2,007' '2,012' '2,016' '2,010' '2,003' '2,004' '2,021' '2,018' '2,014'\n",
      " '2,009' '2,001' '2,022' '2,002' '2,020' '1,997' '2,000' '1,998' '1,986'\n",
      " '1,991' '1,982']\n",
      "##################################################\n",
      "Location:['Abuja' 'Ibadan' 'Lagos']\n",
      "Location:['Abuja' 'Lagos' 'Ibadan']\n",
      "##################################################\n"
     ]
    }
   ],
   "source": [
    "cat_features={\"Location\",\n",
    "             \"Maker\",               \n",
    "             \"Model\",                   \n",
    "              \"Year\",                    \n",
    "             \"Colour\",                  \n",
    "              \"Type\", }\n",
    "for cat_feature in cat_features:\n",
    "    print(cat_feature, train[cat_feature].unique(), sep=\":\")\n",
    "    print(cat_feature,test[cat_feature].unique(),sep=\":\")\n",
    "    print(\"#\" *50)\n",
    "# observing the categorical variables..."
   ]
  },
  {
   "cell_type": "code",
   "execution_count": 29,
   "id": "d08e404a",
   "metadata": {},
   "outputs": [],
   "source": [
    "train.drop(\"Model\", axis=1, inplace=True)\n",
    "test.drop(\"Model\", axis=1, inplace=True)\n",
    "#model was found to have quite alot of unique categorical variables so dropping it was more convenient"
   ]
  },
  {
   "cell_type": "code",
   "execution_count": 30,
   "id": "3054fe87",
   "metadata": {},
   "outputs": [
    {
     "data": {
      "text/html": [
       "<div>\n",
       "<style scoped>\n",
       "    .dataframe tbody tr th:only-of-type {\n",
       "        vertical-align: middle;\n",
       "    }\n",
       "\n",
       "    .dataframe tbody tr th {\n",
       "        vertical-align: top;\n",
       "    }\n",
       "\n",
       "    .dataframe thead th {\n",
       "        text-align: right;\n",
       "    }\n",
       "</style>\n",
       "<table border=\"1\" class=\"dataframe\">\n",
       "  <thead>\n",
       "    <tr style=\"text-align: right;\">\n",
       "      <th></th>\n",
       "      <th>Location</th>\n",
       "      <th>Maker</th>\n",
       "      <th>Year</th>\n",
       "      <th>Colour</th>\n",
       "      <th>Amount (Million Naira)</th>\n",
       "      <th>Type</th>\n",
       "      <th>Distance</th>\n",
       "    </tr>\n",
       "  </thead>\n",
       "  <tbody>\n",
       "    <tr>\n",
       "      <th>0</th>\n",
       "      <td>Abuja</td>\n",
       "      <td>Honda</td>\n",
       "      <td>2,011</td>\n",
       "      <td>Silver</td>\n",
       "      <td>2.20</td>\n",
       "      <td>Nigerian Used</td>\n",
       "      <td>100453.866777</td>\n",
       "    </tr>\n",
       "    <tr>\n",
       "      <th>1</th>\n",
       "      <td>Ibadan</td>\n",
       "      <td>Hyundai</td>\n",
       "      <td>2,012</td>\n",
       "      <td>Silver</td>\n",
       "      <td>3.50</td>\n",
       "      <td>Nigerian Used</td>\n",
       "      <td>125000.000000</td>\n",
       "    </tr>\n",
       "    <tr>\n",
       "      <th>2</th>\n",
       "      <td>Lagos</td>\n",
       "      <td>Lexus</td>\n",
       "      <td>2,010</td>\n",
       "      <td>Red</td>\n",
       "      <td>9.20</td>\n",
       "      <td>Foreign Used</td>\n",
       "      <td>110852.000000</td>\n",
       "    </tr>\n",
       "    <tr>\n",
       "      <th>3</th>\n",
       "      <td>Abuja</td>\n",
       "      <td>Mercedes-Benz</td>\n",
       "      <td>2,017</td>\n",
       "      <td>Blue</td>\n",
       "      <td>22.80</td>\n",
       "      <td>Foreign Used</td>\n",
       "      <td>30000.000000</td>\n",
       "    </tr>\n",
       "    <tr>\n",
       "      <th>4</th>\n",
       "      <td>Ibadan</td>\n",
       "      <td>Toyota</td>\n",
       "      <td>2,002</td>\n",
       "      <td>Red</td>\n",
       "      <td>2.60</td>\n",
       "      <td>Nigerian Used</td>\n",
       "      <td>125206.000000</td>\n",
       "    </tr>\n",
       "    <tr>\n",
       "      <th>...</th>\n",
       "      <td>...</td>\n",
       "      <td>...</td>\n",
       "      <td>...</td>\n",
       "      <td>...</td>\n",
       "      <td>...</td>\n",
       "      <td>...</td>\n",
       "      <td>...</td>\n",
       "    </tr>\n",
       "    <tr>\n",
       "      <th>7200</th>\n",
       "      <td>Abuja</td>\n",
       "      <td>Honda</td>\n",
       "      <td>2,018</td>\n",
       "      <td>Gray</td>\n",
       "      <td>5.70</td>\n",
       "      <td>Foreign Used</td>\n",
       "      <td>65000.000000</td>\n",
       "    </tr>\n",
       "    <tr>\n",
       "      <th>7201</th>\n",
       "      <td>Abuja</td>\n",
       "      <td>BMW</td>\n",
       "      <td>2,007</td>\n",
       "      <td>White</td>\n",
       "      <td>4.00</td>\n",
       "      <td>Nigerian Used</td>\n",
       "      <td>200000.000000</td>\n",
       "    </tr>\n",
       "    <tr>\n",
       "      <th>7202</th>\n",
       "      <td>Abuja</td>\n",
       "      <td>Toyota</td>\n",
       "      <td>2,010</td>\n",
       "      <td>Black</td>\n",
       "      <td>2.85</td>\n",
       "      <td>Nigerian Used</td>\n",
       "      <td>100453.866777</td>\n",
       "    </tr>\n",
       "    <tr>\n",
       "      <th>7203</th>\n",
       "      <td>Lagos</td>\n",
       "      <td>Mercedes-Benz</td>\n",
       "      <td>2,012</td>\n",
       "      <td>Black</td>\n",
       "      <td>8.65</td>\n",
       "      <td>Foreign Used</td>\n",
       "      <td>85750.000000</td>\n",
       "    </tr>\n",
       "    <tr>\n",
       "      <th>7204</th>\n",
       "      <td>Abuja</td>\n",
       "      <td>Honda</td>\n",
       "      <td>2,012</td>\n",
       "      <td>Gray</td>\n",
       "      <td>3.38</td>\n",
       "      <td>Nigerian Used</td>\n",
       "      <td>83308.000000</td>\n",
       "    </tr>\n",
       "  </tbody>\n",
       "</table>\n",
       "<p>7205 rows × 7 columns</p>\n",
       "</div>"
      ],
      "text/plain": [
       "     Location          Maker   Year  Colour  Amount (Million Naira)  \\\n",
       "0       Abuja          Honda  2,011  Silver                    2.20   \n",
       "1      Ibadan        Hyundai  2,012  Silver                    3.50   \n",
       "2       Lagos          Lexus  2,010     Red                    9.20   \n",
       "3       Abuja  Mercedes-Benz  2,017    Blue                   22.80   \n",
       "4      Ibadan         Toyota  2,002     Red                    2.60   \n",
       "...       ...            ...    ...     ...                     ...   \n",
       "7200    Abuja          Honda  2,018    Gray                    5.70   \n",
       "7201    Abuja            BMW  2,007   White                    4.00   \n",
       "7202    Abuja         Toyota  2,010   Black                    2.85   \n",
       "7203    Lagos  Mercedes-Benz  2,012   Black                    8.65   \n",
       "7204    Abuja          Honda  2,012    Gray                    3.38   \n",
       "\n",
       "               Type       Distance  \n",
       "0     Nigerian Used  100453.866777  \n",
       "1     Nigerian Used  125000.000000  \n",
       "2      Foreign Used  110852.000000  \n",
       "3      Foreign Used   30000.000000  \n",
       "4     Nigerian Used  125206.000000  \n",
       "...             ...            ...  \n",
       "7200   Foreign Used   65000.000000  \n",
       "7201  Nigerian Used  200000.000000  \n",
       "7202  Nigerian Used  100453.866777  \n",
       "7203   Foreign Used   85750.000000  \n",
       "7204  Nigerian Used   83308.000000  \n",
       "\n",
       "[7205 rows x 7 columns]"
      ]
     },
     "execution_count": 30,
     "metadata": {},
     "output_type": "execute_result"
    }
   ],
   "source": [
    "train"
   ]
  },
  {
   "cell_type": "code",
   "execution_count": 31,
   "id": "7b1d3580",
   "metadata": {},
   "outputs": [
    {
     "data": {
      "text/html": [
       "<div>\n",
       "<style scoped>\n",
       "    .dataframe tbody tr th:only-of-type {\n",
       "        vertical-align: middle;\n",
       "    }\n",
       "\n",
       "    .dataframe tbody tr th {\n",
       "        vertical-align: top;\n",
       "    }\n",
       "\n",
       "    .dataframe thead th {\n",
       "        text-align: right;\n",
       "    }\n",
       "</style>\n",
       "<table border=\"1\" class=\"dataframe\">\n",
       "  <thead>\n",
       "    <tr style=\"text-align: right;\">\n",
       "      <th></th>\n",
       "      <th>Location</th>\n",
       "      <th>Maker</th>\n",
       "      <th>Year</th>\n",
       "      <th>Colour</th>\n",
       "      <th>Type</th>\n",
       "      <th>Distance</th>\n",
       "    </tr>\n",
       "  </thead>\n",
       "  <tbody>\n",
       "    <tr>\n",
       "      <th>0</th>\n",
       "      <td>Abuja</td>\n",
       "      <td>BMW</td>\n",
       "      <td>2,008</td>\n",
       "      <td>White</td>\n",
       "      <td>Foreign Used</td>\n",
       "      <td>30524.000000</td>\n",
       "    </tr>\n",
       "    <tr>\n",
       "      <th>1</th>\n",
       "      <td>Lagos</td>\n",
       "      <td>Toyota</td>\n",
       "      <td>2,013</td>\n",
       "      <td>White</td>\n",
       "      <td>Foreign Used</td>\n",
       "      <td>103800.668592</td>\n",
       "    </tr>\n",
       "    <tr>\n",
       "      <th>2</th>\n",
       "      <td>Lagos</td>\n",
       "      <td>Toyota</td>\n",
       "      <td>2,005</td>\n",
       "      <td>Gold</td>\n",
       "      <td>Foreign Used</td>\n",
       "      <td>103800.668592</td>\n",
       "    </tr>\n",
       "    <tr>\n",
       "      <th>3</th>\n",
       "      <td>Lagos</td>\n",
       "      <td>Toyota</td>\n",
       "      <td>2,011</td>\n",
       "      <td>Gray</td>\n",
       "      <td>Foreign Used</td>\n",
       "      <td>166839.000000</td>\n",
       "    </tr>\n",
       "    <tr>\n",
       "      <th>4</th>\n",
       "      <td>Lagos</td>\n",
       "      <td>Lexus</td>\n",
       "      <td>2,013</td>\n",
       "      <td>Red</td>\n",
       "      <td>Foreign Used</td>\n",
       "      <td>88862.000000</td>\n",
       "    </tr>\n",
       "    <tr>\n",
       "      <th>...</th>\n",
       "      <td>...</td>\n",
       "      <td>...</td>\n",
       "      <td>...</td>\n",
       "      <td>...</td>\n",
       "      <td>...</td>\n",
       "      <td>...</td>\n",
       "    </tr>\n",
       "    <tr>\n",
       "      <th>2056</th>\n",
       "      <td>Abuja</td>\n",
       "      <td>Toyota</td>\n",
       "      <td>2,020</td>\n",
       "      <td>Red</td>\n",
       "      <td>Foreign Used</td>\n",
       "      <td>2650.000000</td>\n",
       "    </tr>\n",
       "    <tr>\n",
       "      <th>2057</th>\n",
       "      <td>Ibadan</td>\n",
       "      <td>Audi</td>\n",
       "      <td>2,011</td>\n",
       "      <td>Blue</td>\n",
       "      <td>Foreign Used</td>\n",
       "      <td>99000.000000</td>\n",
       "    </tr>\n",
       "    <tr>\n",
       "      <th>2058</th>\n",
       "      <td>Ibadan</td>\n",
       "      <td>Toyota</td>\n",
       "      <td>2,015</td>\n",
       "      <td>Black</td>\n",
       "      <td>Foreign Used</td>\n",
       "      <td>108000.000000</td>\n",
       "    </tr>\n",
       "    <tr>\n",
       "      <th>2059</th>\n",
       "      <td>Abuja</td>\n",
       "      <td>Lexus</td>\n",
       "      <td>2,013</td>\n",
       "      <td>White</td>\n",
       "      <td>Foreign Used</td>\n",
       "      <td>52485.000000</td>\n",
       "    </tr>\n",
       "    <tr>\n",
       "      <th>2060</th>\n",
       "      <td>Abuja</td>\n",
       "      <td>Pontiac</td>\n",
       "      <td>2,009</td>\n",
       "      <td>Silver</td>\n",
       "      <td>Foreign Used</td>\n",
       "      <td>124088.000000</td>\n",
       "    </tr>\n",
       "  </tbody>\n",
       "</table>\n",
       "<p>2061 rows × 6 columns</p>\n",
       "</div>"
      ],
      "text/plain": [
       "     Location    Maker   Year  Colour          Type       Distance\n",
       "0       Abuja      BMW  2,008   White  Foreign Used   30524.000000\n",
       "1       Lagos   Toyota  2,013   White  Foreign Used  103800.668592\n",
       "2       Lagos   Toyota  2,005    Gold  Foreign Used  103800.668592\n",
       "3       Lagos   Toyota  2,011    Gray  Foreign Used  166839.000000\n",
       "4       Lagos    Lexus  2,013     Red  Foreign Used   88862.000000\n",
       "...       ...      ...    ...     ...           ...            ...\n",
       "2056    Abuja   Toyota  2,020     Red  Foreign Used    2650.000000\n",
       "2057   Ibadan     Audi  2,011    Blue  Foreign Used   99000.000000\n",
       "2058   Ibadan   Toyota  2,015   Black  Foreign Used  108000.000000\n",
       "2059    Abuja    Lexus  2,013   White  Foreign Used   52485.000000\n",
       "2060    Abuja  Pontiac  2,009  Silver  Foreign Used  124088.000000\n",
       "\n",
       "[2061 rows x 6 columns]"
      ]
     },
     "execution_count": 31,
     "metadata": {},
     "output_type": "execute_result"
    }
   ],
   "source": [
    "test"
   ]
  },
  {
   "cell_type": "code",
   "execution_count": 32,
   "id": "55a7bc22",
   "metadata": {},
   "outputs": [
    {
     "name": "stderr",
     "output_type": "stream",
     "text": [
      "C:\\Users\\VIVIAN\\anaconda3\\lib\\site-packages\\seaborn\\_decorators.py:36: FutureWarning: Pass the following variable as a keyword arg: x. From version 0.12, the only valid positional argument will be `data`, and passing other arguments without an explicit keyword will result in an error or misinterpretation.\n",
      "  warnings.warn(\n"
     ]
    },
    {
     "data": {
      "text/plain": [
       "<AxesSubplot:xlabel='Amount (Million Naira)'>"
      ]
     },
     "execution_count": 32,
     "metadata": {},
     "output_type": "execute_result"
    },
    {
     "data": {
      "image/png": "[encoded data removed]",
      "text/plain": [
       "<Figure size 432x288 with 1 Axes>"
      ]
     },
     "metadata": {
      "needs_background": "light"
     },
     "output_type": "display_data"
    }
   ],
   "source": [
    "sns.boxplot(train[\"Amount (Million Naira)\"])\n",
    "# the target column was then observed for outliers"
   ]
  },
  {
   "cell_type": "code",
   "execution_count": 33,
   "id": "2a88410d",
   "metadata": {},
   "outputs": [],
   "source": [
    "for x in [\"Amount (Million Naira)\"]:\n",
    "    q75,q25=np.percentile(train.loc[:,x],[75,25])\n",
    "    intr_qr=q75-q25\n",
    "    \n",
    "    \n",
    "    max=q75+(1.5*intr_qr)\n",
    "    min=q25-(1.5*intr_qr)\n",
    "    \n",
    "    train.loc[train[x]< min,x]=np.nan\n",
    "    train.loc[train[x]> max,x]=np.nan\n",
    "    \n",
    "# the outliers were dealt with"
   ]
  },
  {
   "cell_type": "code",
   "execution_count": 34,
   "id": "24d34645",
   "metadata": {},
   "outputs": [
    {
     "data": {
      "text/plain": [
       "Location                    0\n",
       "Maker                       0\n",
       "Year                        0\n",
       "Colour                      0\n",
       "Amount (Million Naira)    672\n",
       "Type                        0\n",
       "Distance                    0\n",
       "dtype: int64"
      ]
     },
     "execution_count": 34,
     "metadata": {},
     "output_type": "execute_result"
    }
   ],
   "source": [
    "train.isnull().sum()\n",
    "#it created null values in the amount column"
   ]
  },
  {
   "cell_type": "code",
   "execution_count": 35,
   "id": "aaa983ae",
   "metadata": {},
   "outputs": [
    {
     "name": "stdout",
     "output_type": "stream",
     "text": [
      "6.894136842268453\n"
     ]
    }
   ],
   "source": [
    "mean_amount=train[\"Amount (Million Naira)\"].mean()\n",
    "print(mean_amount)\n",
    "train[\"Amount (Million Naira)\"].fillna(mean_amount, inplace=True)\n",
    "#the null values were then filled with mean amount"
   ]
  },
  {
   "cell_type": "code",
   "execution_count": 36,
   "id": "0802bc81",
   "metadata": {},
   "outputs": [
    {
     "name": "stderr",
     "output_type": "stream",
     "text": [
      "C:\\Users\\VIVIAN\\anaconda3\\lib\\site-packages\\seaborn\\_decorators.py:36: FutureWarning: Pass the following variable as a keyword arg: x. From version 0.12, the only valid positional argument will be `data`, and passing other arguments without an explicit keyword will result in an error or misinterpretation.\n",
      "  warnings.warn(\n"
     ]
    },
    {
     "data": {
      "text/plain": [
       "<AxesSubplot:xlabel='Amount (Million Naira)'>"
      ]
     },
     "execution_count": 36,
     "metadata": {},
     "output_type": "execute_result"
    },
    {
     "data": {
      "image/png": "[encoded data removed]",
      "text/plain": [
       "<Figure size 432x288 with 1 Axes>"
      ]
     },
     "metadata": {
      "needs_background": "light"
     },
     "output_type": "display_data"
    }
   ],
   "source": [
    "sns.boxplot(train[\"Amount (Million Naira)\"])\n",
    "#checking again, the outliers were alot less than before"
   ]
  },
  {
   "cell_type": "code",
   "execution_count": 37,
   "id": "6bbeb79c",
   "metadata": {},
   "outputs": [
    {
     "data": {
      "text/plain": [
       "Location    False\n",
       "Maker       False\n",
       "Year        False\n",
       "Colour      False\n",
       "Type        False\n",
       "Distance    False\n",
       "dtype: bool"
      ]
     },
     "execution_count": 37,
     "metadata": {},
     "output_type": "execute_result"
    }
   ],
   "source": [
    "test.isnull().any()"
   ]
  },
  {
   "cell_type": "code",
   "execution_count": 38,
   "id": "a32a0825",
   "metadata": {},
   "outputs": [
    {
     "data": {
      "text/plain": [
       "Location                  False\n",
       "Maker                     False\n",
       "Year                      False\n",
       "Colour                    False\n",
       "Amount (Million Naira)    False\n",
       "Type                      False\n",
       "Distance                  False\n",
       "dtype: bool"
      ]
     },
     "execution_count": 38,
     "metadata": {},
     "output_type": "execute_result"
    }
   ],
   "source": [
    "train.isnull().any()"
   ]
  },
  {
   "cell_type": "code",
   "execution_count": 39,
   "id": "1bb6e290",
   "metadata": {},
   "outputs": [
    {
     "data": {
      "text/html": [
       "<div>\n",
       "<style scoped>\n",
       "    .dataframe tbody tr th:only-of-type {\n",
       "        vertical-align: middle;\n",
       "    }\n",
       "\n",
       "    .dataframe tbody tr th {\n",
       "        vertical-align: top;\n",
       "    }\n",
       "\n",
       "    .dataframe thead th {\n",
       "        text-align: right;\n",
       "    }\n",
       "</style>\n",
       "<table border=\"1\" class=\"dataframe\">\n",
       "  <thead>\n",
       "    <tr style=\"text-align: right;\">\n",
       "      <th></th>\n",
       "      <th>Location</th>\n",
       "      <th>Maker</th>\n",
       "      <th>Year</th>\n",
       "      <th>Colour</th>\n",
       "      <th>Amount (Million Naira)</th>\n",
       "      <th>Type</th>\n",
       "      <th>Distance</th>\n",
       "    </tr>\n",
       "  </thead>\n",
       "  <tbody>\n",
       "    <tr>\n",
       "      <th>0</th>\n",
       "      <td>Abuja</td>\n",
       "      <td>Honda</td>\n",
       "      <td>2,011</td>\n",
       "      <td>Silver</td>\n",
       "      <td>2.20</td>\n",
       "      <td>Nigerian Used</td>\n",
       "      <td>100453.866777</td>\n",
       "    </tr>\n",
       "    <tr>\n",
       "      <th>1</th>\n",
       "      <td>Ibadan</td>\n",
       "      <td>Hyundai</td>\n",
       "      <td>2,012</td>\n",
       "      <td>Silver</td>\n",
       "      <td>3.50</td>\n",
       "      <td>Nigerian Used</td>\n",
       "      <td>125000.000000</td>\n",
       "    </tr>\n",
       "    <tr>\n",
       "      <th>2</th>\n",
       "      <td>Lagos</td>\n",
       "      <td>Lexus</td>\n",
       "      <td>2,010</td>\n",
       "      <td>Red</td>\n",
       "      <td>9.20</td>\n",
       "      <td>Foreign Used</td>\n",
       "      <td>110852.000000</td>\n",
       "    </tr>\n",
       "    <tr>\n",
       "      <th>3</th>\n",
       "      <td>Abuja</td>\n",
       "      <td>Mercedes-Benz</td>\n",
       "      <td>2,017</td>\n",
       "      <td>Blue</td>\n",
       "      <td>22.80</td>\n",
       "      <td>Foreign Used</td>\n",
       "      <td>30000.000000</td>\n",
       "    </tr>\n",
       "    <tr>\n",
       "      <th>4</th>\n",
       "      <td>Ibadan</td>\n",
       "      <td>Toyota</td>\n",
       "      <td>2,002</td>\n",
       "      <td>Red</td>\n",
       "      <td>2.60</td>\n",
       "      <td>Nigerian Used</td>\n",
       "      <td>125206.000000</td>\n",
       "    </tr>\n",
       "    <tr>\n",
       "      <th>...</th>\n",
       "      <td>...</td>\n",
       "      <td>...</td>\n",
       "      <td>...</td>\n",
       "      <td>...</td>\n",
       "      <td>...</td>\n",
       "      <td>...</td>\n",
       "      <td>...</td>\n",
       "    </tr>\n",
       "    <tr>\n",
       "      <th>7200</th>\n",
       "      <td>Abuja</td>\n",
       "      <td>Honda</td>\n",
       "      <td>2,018</td>\n",
       "      <td>Gray</td>\n",
       "      <td>5.70</td>\n",
       "      <td>Foreign Used</td>\n",
       "      <td>65000.000000</td>\n",
       "    </tr>\n",
       "    <tr>\n",
       "      <th>7201</th>\n",
       "      <td>Abuja</td>\n",
       "      <td>BMW</td>\n",
       "      <td>2,007</td>\n",
       "      <td>White</td>\n",
       "      <td>4.00</td>\n",
       "      <td>Nigerian Used</td>\n",
       "      <td>200000.000000</td>\n",
       "    </tr>\n",
       "    <tr>\n",
       "      <th>7202</th>\n",
       "      <td>Abuja</td>\n",
       "      <td>Toyota</td>\n",
       "      <td>2,010</td>\n",
       "      <td>Black</td>\n",
       "      <td>2.85</td>\n",
       "      <td>Nigerian Used</td>\n",
       "      <td>100453.866777</td>\n",
       "    </tr>\n",
       "    <tr>\n",
       "      <th>7203</th>\n",
       "      <td>Lagos</td>\n",
       "      <td>Mercedes-Benz</td>\n",
       "      <td>2,012</td>\n",
       "      <td>Black</td>\n",
       "      <td>8.65</td>\n",
       "      <td>Foreign Used</td>\n",
       "      <td>85750.000000</td>\n",
       "    </tr>\n",
       "    <tr>\n",
       "      <th>7204</th>\n",
       "      <td>Abuja</td>\n",
       "      <td>Honda</td>\n",
       "      <td>2,012</td>\n",
       "      <td>Gray</td>\n",
       "      <td>3.38</td>\n",
       "      <td>Nigerian Used</td>\n",
       "      <td>83308.000000</td>\n",
       "    </tr>\n",
       "  </tbody>\n",
       "</table>\n",
       "<p>7205 rows × 7 columns</p>\n",
       "</div>"
      ],
      "text/plain": [
       "     Location          Maker   Year  Colour  Amount (Million Naira)  \\\n",
       "0       Abuja          Honda  2,011  Silver                    2.20   \n",
       "1      Ibadan        Hyundai  2,012  Silver                    3.50   \n",
       "2       Lagos          Lexus  2,010     Red                    9.20   \n",
       "3       Abuja  Mercedes-Benz  2,017    Blue                   22.80   \n",
       "4      Ibadan         Toyota  2,002     Red                    2.60   \n",
       "...       ...            ...    ...     ...                     ...   \n",
       "7200    Abuja          Honda  2,018    Gray                    5.70   \n",
       "7201    Abuja            BMW  2,007   White                    4.00   \n",
       "7202    Abuja         Toyota  2,010   Black                    2.85   \n",
       "7203    Lagos  Mercedes-Benz  2,012   Black                    8.65   \n",
       "7204    Abuja          Honda  2,012    Gray                    3.38   \n",
       "\n",
       "               Type       Distance  \n",
       "0     Nigerian Used  100453.866777  \n",
       "1     Nigerian Used  125000.000000  \n",
       "2      Foreign Used  110852.000000  \n",
       "3      Foreign Used   30000.000000  \n",
       "4     Nigerian Used  125206.000000  \n",
       "...             ...            ...  \n",
       "7200   Foreign Used   65000.000000  \n",
       "7201  Nigerian Used  200000.000000  \n",
       "7202  Nigerian Used  100453.866777  \n",
       "7203   Foreign Used   85750.000000  \n",
       "7204  Nigerian Used   83308.000000  \n",
       "\n",
       "[7205 rows x 7 columns]"
      ]
     },
     "execution_count": 39,
     "metadata": {},
     "output_type": "execute_result"
    }
   ],
   "source": [
    "train"
   ]
  },
  {
   "cell_type": "code",
   "execution_count": 40,
   "id": "ae9a5b0a",
   "metadata": {},
   "outputs": [
    {
     "data": {
      "text/html": [
       "<div>\n",
       "<style scoped>\n",
       "    .dataframe tbody tr th:only-of-type {\n",
       "        vertical-align: middle;\n",
       "    }\n",
       "\n",
       "    .dataframe tbody tr th {\n",
       "        vertical-align: top;\n",
       "    }\n",
       "\n",
       "    .dataframe thead th {\n",
       "        text-align: right;\n",
       "    }\n",
       "</style>\n",
       "<table border=\"1\" class=\"dataframe\">\n",
       "  <thead>\n",
       "    <tr style=\"text-align: right;\">\n",
       "      <th></th>\n",
       "      <th>Location</th>\n",
       "      <th>Maker</th>\n",
       "      <th>Year</th>\n",
       "      <th>Colour</th>\n",
       "      <th>Amount (Million Naira)</th>\n",
       "      <th>Type</th>\n",
       "      <th>Distance</th>\n",
       "      <th>Maker_cat</th>\n",
       "      <th>Colour_cat</th>\n",
       "      <th>Type_cat</th>\n",
       "      <th>Year_cat</th>\n",
       "      <th>Location_cat</th>\n",
       "    </tr>\n",
       "  </thead>\n",
       "  <tbody>\n",
       "    <tr>\n",
       "      <th>0</th>\n",
       "      <td>Abuja</td>\n",
       "      <td>Honda</td>\n",
       "      <td>2,011</td>\n",
       "      <td>Silver</td>\n",
       "      <td>2.2</td>\n",
       "      <td>Nigerian Used</td>\n",
       "      <td>100453.866777</td>\n",
       "      <td>17</td>\n",
       "      <td>16</td>\n",
       "      <td>2</td>\n",
       "      <td>21</td>\n",
       "      <td>0</td>\n",
       "    </tr>\n",
       "    <tr>\n",
       "      <th>1</th>\n",
       "      <td>Ibadan</td>\n",
       "      <td>Hyundai</td>\n",
       "      <td>2,012</td>\n",
       "      <td>Silver</td>\n",
       "      <td>3.5</td>\n",
       "      <td>Nigerian Used</td>\n",
       "      <td>125000.000000</td>\n",
       "      <td>19</td>\n",
       "      <td>16</td>\n",
       "      <td>2</td>\n",
       "      <td>22</td>\n",
       "      <td>1</td>\n",
       "    </tr>\n",
       "    <tr>\n",
       "      <th>2</th>\n",
       "      <td>Lagos</td>\n",
       "      <td>Lexus</td>\n",
       "      <td>2,010</td>\n",
       "      <td>Red</td>\n",
       "      <td>9.2</td>\n",
       "      <td>Foreign Used</td>\n",
       "      <td>110852.000000</td>\n",
       "      <td>29</td>\n",
       "      <td>15</td>\n",
       "      <td>1</td>\n",
       "      <td>20</td>\n",
       "      <td>2</td>\n",
       "    </tr>\n",
       "    <tr>\n",
       "      <th>3</th>\n",
       "      <td>Abuja</td>\n",
       "      <td>Mercedes-Benz</td>\n",
       "      <td>2,017</td>\n",
       "      <td>Blue</td>\n",
       "      <td>22.8</td>\n",
       "      <td>Foreign Used</td>\n",
       "      <td>30000.000000</td>\n",
       "      <td>34</td>\n",
       "      <td>2</td>\n",
       "      <td>1</td>\n",
       "      <td>27</td>\n",
       "      <td>0</td>\n",
       "    </tr>\n",
       "    <tr>\n",
       "      <th>4</th>\n",
       "      <td>Ibadan</td>\n",
       "      <td>Toyota</td>\n",
       "      <td>2,002</td>\n",
       "      <td>Red</td>\n",
       "      <td>2.6</td>\n",
       "      <td>Nigerian Used</td>\n",
       "      <td>125206.000000</td>\n",
       "      <td>52</td>\n",
       "      <td>15</td>\n",
       "      <td>2</td>\n",
       "      <td>12</td>\n",
       "      <td>1</td>\n",
       "    </tr>\n",
       "  </tbody>\n",
       "</table>\n",
       "</div>"
      ],
      "text/plain": [
       "  Location          Maker   Year  Colour  Amount (Million Naira)  \\\n",
       "0    Abuja          Honda  2,011  Silver                     2.2   \n",
       "1   Ibadan        Hyundai  2,012  Silver                     3.5   \n",
       "2    Lagos          Lexus  2,010     Red                     9.2   \n",
       "3    Abuja  Mercedes-Benz  2,017    Blue                    22.8   \n",
       "4   Ibadan         Toyota  2,002     Red                     2.6   \n",
       "\n",
       "            Type       Distance  Maker_cat  Colour_cat  Type_cat  Year_cat  \\\n",
       "0  Nigerian Used  100453.866777         17          16         2        21   \n",
       "1  Nigerian Used  125000.000000         19          16         2        22   \n",
       "2   Foreign Used  110852.000000         29          15         1        20   \n",
       "3   Foreign Used   30000.000000         34           2         1        27   \n",
       "4  Nigerian Used  125206.000000         52          15         2        12   \n",
       "\n",
       "   Location_cat  \n",
       "0             0  \n",
       "1             1  \n",
       "2             2  \n",
       "3             0  \n",
       "4             1  "
      ]
     },
     "execution_count": 40,
     "metadata": {},
     "output_type": "execute_result"
    }
   ],
   "source": [
    "cat_features={\"Location\",\n",
    "             \"Maker\",\n",
    "             \"Year\",\n",
    "             \"Colour\",\n",
    "              \"Type\"\n",
    "             }\n",
    "\n",
    "for cat_feature in cat_features:\n",
    "    train[f\"{cat_feature}_cat\"]=train[cat_feature].astype(\"category\")\n",
    "    train[f\"{cat_feature}_cat\"]=train[f\"{cat_feature}_cat\"].cat.codes\n",
    "# this was used to encode the categorical features    \n",
    "train.head()"
   ]
  },
  {
   "cell_type": "code",
   "execution_count": 41,
   "id": "c419560b",
   "metadata": {},
   "outputs": [],
   "source": [
    "train.drop([\"Location\",\"Maker\",\"Year\",\"Colour\",\"Type\"], axis=1, inplace=True)\n",
    "#the redundant columns of the categorical features were then dropped"
   ]
  },
  {
   "cell_type": "code",
   "execution_count": 42,
   "id": "53b1f1b2",
   "metadata": {},
   "outputs": [
    {
     "data": {
      "text/html": [
       "<div>\n",
       "<style scoped>\n",
       "    .dataframe tbody tr th:only-of-type {\n",
       "        vertical-align: middle;\n",
       "    }\n",
       "\n",
       "    .dataframe tbody tr th {\n",
       "        vertical-align: top;\n",
       "    }\n",
       "\n",
       "    .dataframe thead th {\n",
       "        text-align: right;\n",
       "    }\n",
       "</style>\n",
       "<table border=\"1\" class=\"dataframe\">\n",
       "  <thead>\n",
       "    <tr style=\"text-align: right;\">\n",
       "      <th></th>\n",
       "      <th>Amount (Million Naira)</th>\n",
       "      <th>Distance</th>\n",
       "      <th>Maker_cat</th>\n",
       "      <th>Colour_cat</th>\n",
       "      <th>Type_cat</th>\n",
       "      <th>Year_cat</th>\n",
       "      <th>Location_cat</th>\n",
       "    </tr>\n",
       "  </thead>\n",
       "  <tbody>\n",
       "    <tr>\n",
       "      <th>0</th>\n",
       "      <td>2.20</td>\n",
       "      <td>100453.866777</td>\n",
       "      <td>17</td>\n",
       "      <td>16</td>\n",
       "      <td>2</td>\n",
       "      <td>21</td>\n",
       "      <td>0</td>\n",
       "    </tr>\n",
       "    <tr>\n",
       "      <th>1</th>\n",
       "      <td>3.50</td>\n",
       "      <td>125000.000000</td>\n",
       "      <td>19</td>\n",
       "      <td>16</td>\n",
       "      <td>2</td>\n",
       "      <td>22</td>\n",
       "      <td>1</td>\n",
       "    </tr>\n",
       "    <tr>\n",
       "      <th>2</th>\n",
       "      <td>9.20</td>\n",
       "      <td>110852.000000</td>\n",
       "      <td>29</td>\n",
       "      <td>15</td>\n",
       "      <td>1</td>\n",
       "      <td>20</td>\n",
       "      <td>2</td>\n",
       "    </tr>\n",
       "    <tr>\n",
       "      <th>3</th>\n",
       "      <td>22.80</td>\n",
       "      <td>30000.000000</td>\n",
       "      <td>34</td>\n",
       "      <td>2</td>\n",
       "      <td>1</td>\n",
       "      <td>27</td>\n",
       "      <td>0</td>\n",
       "    </tr>\n",
       "    <tr>\n",
       "      <th>4</th>\n",
       "      <td>2.60</td>\n",
       "      <td>125206.000000</td>\n",
       "      <td>52</td>\n",
       "      <td>15</td>\n",
       "      <td>2</td>\n",
       "      <td>12</td>\n",
       "      <td>1</td>\n",
       "    </tr>\n",
       "    <tr>\n",
       "      <th>...</th>\n",
       "      <td>...</td>\n",
       "      <td>...</td>\n",
       "      <td>...</td>\n",
       "      <td>...</td>\n",
       "      <td>...</td>\n",
       "      <td>...</td>\n",
       "      <td>...</td>\n",
       "    </tr>\n",
       "    <tr>\n",
       "      <th>7200</th>\n",
       "      <td>5.70</td>\n",
       "      <td>65000.000000</td>\n",
       "      <td>17</td>\n",
       "      <td>7</td>\n",
       "      <td>1</td>\n",
       "      <td>28</td>\n",
       "      <td>0</td>\n",
       "    </tr>\n",
       "    <tr>\n",
       "      <th>7201</th>\n",
       "      <td>4.00</td>\n",
       "      <td>200000.000000</td>\n",
       "      <td>3</td>\n",
       "      <td>19</td>\n",
       "      <td>2</td>\n",
       "      <td>17</td>\n",
       "      <td>0</td>\n",
       "    </tr>\n",
       "    <tr>\n",
       "      <th>7202</th>\n",
       "      <td>2.85</td>\n",
       "      <td>100453.866777</td>\n",
       "      <td>52</td>\n",
       "      <td>1</td>\n",
       "      <td>2</td>\n",
       "      <td>20</td>\n",
       "      <td>0</td>\n",
       "    </tr>\n",
       "    <tr>\n",
       "      <th>7203</th>\n",
       "      <td>8.65</td>\n",
       "      <td>85750.000000</td>\n",
       "      <td>34</td>\n",
       "      <td>1</td>\n",
       "      <td>1</td>\n",
       "      <td>22</td>\n",
       "      <td>2</td>\n",
       "    </tr>\n",
       "    <tr>\n",
       "      <th>7204</th>\n",
       "      <td>3.38</td>\n",
       "      <td>83308.000000</td>\n",
       "      <td>17</td>\n",
       "      <td>7</td>\n",
       "      <td>2</td>\n",
       "      <td>22</td>\n",
       "      <td>0</td>\n",
       "    </tr>\n",
       "  </tbody>\n",
       "</table>\n",
       "<p>7205 rows × 7 columns</p>\n",
       "</div>"
      ],
      "text/plain": [
       "      Amount (Million Naira)       Distance  Maker_cat  Colour_cat  Type_cat  \\\n",
       "0                       2.20  100453.866777         17          16         2   \n",
       "1                       3.50  125000.000000         19          16         2   \n",
       "2                       9.20  110852.000000         29          15         1   \n",
       "3                      22.80   30000.000000         34           2         1   \n",
       "4                       2.60  125206.000000         52          15         2   \n",
       "...                      ...            ...        ...         ...       ...   \n",
       "7200                    5.70   65000.000000         17           7         1   \n",
       "7201                    4.00  200000.000000          3          19         2   \n",
       "7202                    2.85  100453.866777         52           1         2   \n",
       "7203                    8.65   85750.000000         34           1         1   \n",
       "7204                    3.38   83308.000000         17           7         2   \n",
       "\n",
       "      Year_cat  Location_cat  \n",
       "0           21             0  \n",
       "1           22             1  \n",
       "2           20             2  \n",
       "3           27             0  \n",
       "4           12             1  \n",
       "...        ...           ...  \n",
       "7200        28             0  \n",
       "7201        17             0  \n",
       "7202        20             0  \n",
       "7203        22             2  \n",
       "7204        22             0  \n",
       "\n",
       "[7205 rows x 7 columns]"
      ]
     },
     "execution_count": 42,
     "metadata": {},
     "output_type": "execute_result"
    }
   ],
   "source": [
    "train"
   ]
  },
  {
   "cell_type": "markdown",
   "id": "9a2b9b0e",
   "metadata": {},
   "source": [
    "## ENCODING CATEGORICAL VARIABLES"
   ]
  },
  {
   "cell_type": "code",
   "execution_count": 43,
   "id": "5e7bed7d",
   "metadata": {},
   "outputs": [
    {
     "data": {
      "text/html": [
       "<div>\n",
       "<style scoped>\n",
       "    .dataframe tbody tr th:only-of-type {\n",
       "        vertical-align: middle;\n",
       "    }\n",
       "\n",
       "    .dataframe tbody tr th {\n",
       "        vertical-align: top;\n",
       "    }\n",
       "\n",
       "    .dataframe thead th {\n",
       "        text-align: right;\n",
       "    }\n",
       "</style>\n",
       "<table border=\"1\" class=\"dataframe\">\n",
       "  <thead>\n",
       "    <tr style=\"text-align: right;\">\n",
       "      <th></th>\n",
       "      <th>Location</th>\n",
       "      <th>Maker</th>\n",
       "      <th>Year</th>\n",
       "      <th>Colour</th>\n",
       "      <th>Type</th>\n",
       "      <th>Distance</th>\n",
       "      <th>Maker_cat</th>\n",
       "      <th>Colour_cat</th>\n",
       "      <th>Type_cat</th>\n",
       "      <th>Year_cat</th>\n",
       "      <th>Location_cat</th>\n",
       "    </tr>\n",
       "  </thead>\n",
       "  <tbody>\n",
       "    <tr>\n",
       "      <th>0</th>\n",
       "      <td>Abuja</td>\n",
       "      <td>BMW</td>\n",
       "      <td>2,008</td>\n",
       "      <td>White</td>\n",
       "      <td>Foreign Used</td>\n",
       "      <td>30524.000000</td>\n",
       "      <td>2</td>\n",
       "      <td>16</td>\n",
       "      <td>1</td>\n",
       "      <td>14</td>\n",
       "      <td>0</td>\n",
       "    </tr>\n",
       "    <tr>\n",
       "      <th>1</th>\n",
       "      <td>Lagos</td>\n",
       "      <td>Toyota</td>\n",
       "      <td>2,013</td>\n",
       "      <td>White</td>\n",
       "      <td>Foreign Used</td>\n",
       "      <td>103800.668592</td>\n",
       "      <td>37</td>\n",
       "      <td>16</td>\n",
       "      <td>1</td>\n",
       "      <td>19</td>\n",
       "      <td>2</td>\n",
       "    </tr>\n",
       "    <tr>\n",
       "      <th>2</th>\n",
       "      <td>Lagos</td>\n",
       "      <td>Toyota</td>\n",
       "      <td>2,005</td>\n",
       "      <td>Gold</td>\n",
       "      <td>Foreign Used</td>\n",
       "      <td>103800.668592</td>\n",
       "      <td>37</td>\n",
       "      <td>7</td>\n",
       "      <td>1</td>\n",
       "      <td>11</td>\n",
       "      <td>2</td>\n",
       "    </tr>\n",
       "    <tr>\n",
       "      <th>3</th>\n",
       "      <td>Lagos</td>\n",
       "      <td>Toyota</td>\n",
       "      <td>2,011</td>\n",
       "      <td>Gray</td>\n",
       "      <td>Foreign Used</td>\n",
       "      <td>166839.000000</td>\n",
       "      <td>37</td>\n",
       "      <td>8</td>\n",
       "      <td>1</td>\n",
       "      <td>17</td>\n",
       "      <td>2</td>\n",
       "    </tr>\n",
       "    <tr>\n",
       "      <th>4</th>\n",
       "      <td>Lagos</td>\n",
       "      <td>Lexus</td>\n",
       "      <td>2,013</td>\n",
       "      <td>Red</td>\n",
       "      <td>Foreign Used</td>\n",
       "      <td>88862.000000</td>\n",
       "      <td>20</td>\n",
       "      <td>12</td>\n",
       "      <td>1</td>\n",
       "      <td>19</td>\n",
       "      <td>2</td>\n",
       "    </tr>\n",
       "  </tbody>\n",
       "</table>\n",
       "</div>"
      ],
      "text/plain": [
       "  Location   Maker   Year Colour          Type       Distance  Maker_cat  \\\n",
       "0    Abuja     BMW  2,008  White  Foreign Used   30524.000000          2   \n",
       "1    Lagos  Toyota  2,013  White  Foreign Used  103800.668592         37   \n",
       "2    Lagos  Toyota  2,005   Gold  Foreign Used  103800.668592         37   \n",
       "3    Lagos  Toyota  2,011   Gray  Foreign Used  166839.000000         37   \n",
       "4    Lagos   Lexus  2,013    Red  Foreign Used   88862.000000         20   \n",
       "\n",
       "   Colour_cat  Type_cat  Year_cat  Location_cat  \n",
       "0          16         1        14             0  \n",
       "1          16         1        19             2  \n",
       "2           7         1        11             2  \n",
       "3           8         1        17             2  \n",
       "4          12         1        19             2  "
      ]
     },
     "execution_count": 43,
     "metadata": {},
     "output_type": "execute_result"
    }
   ],
   "source": [
    "for cat_feature in cat_features:\n",
    "    test[f\"{cat_feature}_cat\"]=test[cat_feature].astype(\"category\")\n",
    "    test[f\"{cat_feature}_cat\"]=test[f\"{cat_feature}_cat\"].cat.codes\n",
    "# encoding was also done in the test dataset   \n",
    "test.head()"
   ]
  },
  {
   "cell_type": "code",
   "execution_count": 44,
   "id": "f5496015",
   "metadata": {},
   "outputs": [],
   "source": [
    "test.drop([\"Location\",\"Maker\",\"Year\",\"Colour\",\"Type\"], axis=1, inplace=True)\n",
    "#categorical features also dropped"
   ]
  },
  {
   "cell_type": "code",
   "execution_count": 45,
   "id": "3628018f",
   "metadata": {},
   "outputs": [
    {
     "data": {
      "text/html": [
       "<div>\n",
       "<style scoped>\n",
       "    .dataframe tbody tr th:only-of-type {\n",
       "        vertical-align: middle;\n",
       "    }\n",
       "\n",
       "    .dataframe tbody tr th {\n",
       "        vertical-align: top;\n",
       "    }\n",
       "\n",
       "    .dataframe thead th {\n",
       "        text-align: right;\n",
       "    }\n",
       "</style>\n",
       "<table border=\"1\" class=\"dataframe\">\n",
       "  <thead>\n",
       "    <tr style=\"text-align: right;\">\n",
       "      <th></th>\n",
       "      <th>Distance</th>\n",
       "      <th>Maker_cat</th>\n",
       "      <th>Colour_cat</th>\n",
       "      <th>Type_cat</th>\n",
       "      <th>Year_cat</th>\n",
       "      <th>Location_cat</th>\n",
       "    </tr>\n",
       "  </thead>\n",
       "  <tbody>\n",
       "    <tr>\n",
       "      <th>0</th>\n",
       "      <td>30524.000000</td>\n",
       "      <td>2</td>\n",
       "      <td>16</td>\n",
       "      <td>1</td>\n",
       "      <td>14</td>\n",
       "      <td>0</td>\n",
       "    </tr>\n",
       "    <tr>\n",
       "      <th>1</th>\n",
       "      <td>103800.668592</td>\n",
       "      <td>37</td>\n",
       "      <td>16</td>\n",
       "      <td>1</td>\n",
       "      <td>19</td>\n",
       "      <td>2</td>\n",
       "    </tr>\n",
       "    <tr>\n",
       "      <th>2</th>\n",
       "      <td>103800.668592</td>\n",
       "      <td>37</td>\n",
       "      <td>7</td>\n",
       "      <td>1</td>\n",
       "      <td>11</td>\n",
       "      <td>2</td>\n",
       "    </tr>\n",
       "    <tr>\n",
       "      <th>3</th>\n",
       "      <td>166839.000000</td>\n",
       "      <td>37</td>\n",
       "      <td>8</td>\n",
       "      <td>1</td>\n",
       "      <td>17</td>\n",
       "      <td>2</td>\n",
       "    </tr>\n",
       "    <tr>\n",
       "      <th>4</th>\n",
       "      <td>88862.000000</td>\n",
       "      <td>20</td>\n",
       "      <td>12</td>\n",
       "      <td>1</td>\n",
       "      <td>19</td>\n",
       "      <td>2</td>\n",
       "    </tr>\n",
       "    <tr>\n",
       "      <th>...</th>\n",
       "      <td>...</td>\n",
       "      <td>...</td>\n",
       "      <td>...</td>\n",
       "      <td>...</td>\n",
       "      <td>...</td>\n",
       "      <td>...</td>\n",
       "    </tr>\n",
       "    <tr>\n",
       "      <th>2056</th>\n",
       "      <td>2650.000000</td>\n",
       "      <td>37</td>\n",
       "      <td>12</td>\n",
       "      <td>1</td>\n",
       "      <td>26</td>\n",
       "      <td>0</td>\n",
       "    </tr>\n",
       "    <tr>\n",
       "      <th>2057</th>\n",
       "      <td>99000.000000</td>\n",
       "      <td>1</td>\n",
       "      <td>3</td>\n",
       "      <td>1</td>\n",
       "      <td>17</td>\n",
       "      <td>1</td>\n",
       "    </tr>\n",
       "    <tr>\n",
       "      <th>2058</th>\n",
       "      <td>108000.000000</td>\n",
       "      <td>37</td>\n",
       "      <td>2</td>\n",
       "      <td>1</td>\n",
       "      <td>21</td>\n",
       "      <td>1</td>\n",
       "    </tr>\n",
       "    <tr>\n",
       "      <th>2059</th>\n",
       "      <td>52485.000000</td>\n",
       "      <td>20</td>\n",
       "      <td>16</td>\n",
       "      <td>1</td>\n",
       "      <td>19</td>\n",
       "      <td>0</td>\n",
       "    </tr>\n",
       "    <tr>\n",
       "      <th>2060</th>\n",
       "      <td>124088.000000</td>\n",
       "      <td>30</td>\n",
       "      <td>13</td>\n",
       "      <td>1</td>\n",
       "      <td>15</td>\n",
       "      <td>0</td>\n",
       "    </tr>\n",
       "  </tbody>\n",
       "</table>\n",
       "<p>2061 rows × 6 columns</p>\n",
       "</div>"
      ],
      "text/plain": [
       "           Distance  Maker_cat  Colour_cat  Type_cat  Year_cat  Location_cat\n",
       "0      30524.000000          2          16         1        14             0\n",
       "1     103800.668592         37          16         1        19             2\n",
       "2     103800.668592         37           7         1        11             2\n",
       "3     166839.000000         37           8         1        17             2\n",
       "4      88862.000000         20          12         1        19             2\n",
       "...             ...        ...         ...       ...       ...           ...\n",
       "2056    2650.000000         37          12         1        26             0\n",
       "2057   99000.000000          1           3         1        17             1\n",
       "2058  108000.000000         37           2         1        21             1\n",
       "2059   52485.000000         20          16         1        19             0\n",
       "2060  124088.000000         30          13         1        15             0\n",
       "\n",
       "[2061 rows x 6 columns]"
      ]
     },
     "execution_count": 45,
     "metadata": {},
     "output_type": "execute_result"
    }
   ],
   "source": [
    "test"
   ]
  },
  {
   "cell_type": "markdown",
   "id": "833ae74a",
   "metadata": {},
   "source": [
    "## MACHINE LEARNING"
   ]
  },
  {
   "cell_type": "code",
   "execution_count": 46,
   "id": "14f6529d",
   "metadata": {},
   "outputs": [],
   "source": [
    "y=train[\"Amount (Million Naira)\"]\n",
    "X=train.drop(\"Amount (Million Naira)\", axis=1)\n",
    "# our target variable  was separated from the other independent variables"
   ]
  },
  {
   "cell_type": "code",
   "execution_count": 47,
   "id": "33f3eef7",
   "metadata": {},
   "outputs": [],
   "source": [
    "X_train,X_test,y_train, y_test= train_test_split(X,y, test_size=0.3, random_state=42)\n",
    "# the train and test dataset was created by splitting the train data, setting the random state to 42"
   ]
  },
  {
   "cell_type": "code",
   "execution_count": 48,
   "id": "3ee10d8d",
   "metadata": {},
   "outputs": [
    {
     "data": {
      "text/plain": [
       "LinearRegression()"
      ]
     },
     "execution_count": 48,
     "metadata": {},
     "output_type": "execute_result"
    }
   ],
   "source": [
    "from sklearn.linear_model import LinearRegression\n",
    "reg=LinearRegression()\n",
    "reg.fit(X_train,y_train)\n",
    "#linear regression model was applied"
   ]
  },
  {
   "cell_type": "code",
   "execution_count": 49,
   "id": "840362ea",
   "metadata": {},
   "outputs": [
    {
     "data": {
      "text/plain": [
       "array([ 4.51563289,  7.41877127, 11.16249121, ...,  9.40244051,\n",
       "        7.64620597,  9.65346952])"
      ]
     },
     "execution_count": 49,
     "metadata": {},
     "output_type": "execute_result"
    }
   ],
   "source": [
    "y_pred=reg.predict(X_test)\n",
    "y_pred\n",
    "# prediction was done"
   ]
  },
  {
   "cell_type": "code",
   "execution_count": 50,
   "id": "b28d9ef7",
   "metadata": {},
   "outputs": [
    {
     "name": "stdout",
     "output_type": "stream",
     "text": [
      "MSE:  13.34940728374813\n"
     ]
    }
   ],
   "source": [
    "from sklearn.metrics import mean_squared_error\n",
    "print(\"MSE: \", mean_squared_error(y_test,y_pred))\n",
    "# mean squared error was used as the metric to test the accuracy of the model"
   ]
  },
  {
   "cell_type": "code",
   "execution_count": 51,
   "id": "05ff7a0f",
   "metadata": {},
   "outputs": [
    {
     "name": "stdout",
     "output_type": "stream",
     "text": [
      "3.6536840700515048\n"
     ]
    }
   ],
   "source": [
    "mse=mean_squared_error(y_test,y_pred)\n",
    "rmse=mean_squared_error(y_test, y_pred, squared=False)\n",
    "\n",
    "print(rmse)\n",
    "# assigned a variable to the mean squared error and the root mean squared error(not that important)"
   ]
  },
  {
   "cell_type": "code",
   "execution_count": 52,
   "id": "510e0e91",
   "metadata": {},
   "outputs": [
    {
     "data": {
      "text/plain": [
       "array([2.17271408, 6.59928136, 1.84545195, ..., 6.96256325, 5.18878919,\n",
       "       2.66630171])"
      ]
     },
     "execution_count": 52,
     "metadata": {},
     "output_type": "execute_result"
    }
   ],
   "source": [
    "test_pred= reg.predict(test)\n",
    "test_pred\n",
    "# the test dataset was predicted"
   ]
  },
  {
   "cell_type": "code",
   "execution_count": 53,
   "id": "d6912af4",
   "metadata": {},
   "outputs": [
    {
     "data": {
      "text/html": [
       "<div>\n",
       "<style scoped>\n",
       "    .dataframe tbody tr th:only-of-type {\n",
       "        vertical-align: middle;\n",
       "    }\n",
       "\n",
       "    .dataframe tbody tr th {\n",
       "        vertical-align: top;\n",
       "    }\n",
       "\n",
       "    .dataframe thead th {\n",
       "        text-align: right;\n",
       "    }\n",
       "</style>\n",
       "<table border=\"1\" class=\"dataframe\">\n",
       "  <thead>\n",
       "    <tr style=\"text-align: right;\">\n",
       "      <th></th>\n",
       "      <th>VehicleID</th>\n",
       "      <th>Amount (Million Naira)</th>\n",
       "    </tr>\n",
       "  </thead>\n",
       "  <tbody>\n",
       "    <tr>\n",
       "      <th>0</th>\n",
       "      <td>VHL18518</td>\n",
       "      <td>1.0</td>\n",
       "    </tr>\n",
       "    <tr>\n",
       "      <th>1</th>\n",
       "      <td>VHL17149</td>\n",
       "      <td>1.0</td>\n",
       "    </tr>\n",
       "    <tr>\n",
       "      <th>2</th>\n",
       "      <td>VHL10927</td>\n",
       "      <td>1.0</td>\n",
       "    </tr>\n",
       "    <tr>\n",
       "      <th>3</th>\n",
       "      <td>VHL12909</td>\n",
       "      <td>1.0</td>\n",
       "    </tr>\n",
       "    <tr>\n",
       "      <th>4</th>\n",
       "      <td>VHL12348</td>\n",
       "      <td>1.0</td>\n",
       "    </tr>\n",
       "  </tbody>\n",
       "</table>\n",
       "</div>"
      ],
      "text/plain": [
       "  VehicleID  Amount (Million Naira)\n",
       "0  VHL18518                     1.0\n",
       "1  VHL17149                     1.0\n",
       "2  VHL10927                     1.0\n",
       "3  VHL12909                     1.0\n",
       "4  VHL12348                     1.0"
      ]
     },
     "execution_count": 53,
     "metadata": {},
     "output_type": "execute_result"
    }
   ],
   "source": [
    "submission= pd.read_csv(\"SampleSubmission.csv\")\n",
    "submission.head()\n",
    "# the submission dataset was read"
   ]
  },
  {
   "cell_type": "code",
   "execution_count": 54,
   "id": "2ec1e317",
   "metadata": {},
   "outputs": [],
   "source": [
    "submission[\"Amount (Million Naira)\"]=test_pred\n",
    "# the test predictions was assigned to the target variable in the submission dataset"
   ]
  },
  {
   "cell_type": "code",
   "execution_count": 55,
   "id": "b7648037",
   "metadata": {},
   "outputs": [
    {
     "data": {
      "text/html": [
       "<div>\n",
       "<style scoped>\n",
       "    .dataframe tbody tr th:only-of-type {\n",
       "        vertical-align: middle;\n",
       "    }\n",
       "\n",
       "    .dataframe tbody tr th {\n",
       "        vertical-align: top;\n",
       "    }\n",
       "\n",
       "    .dataframe thead th {\n",
       "        text-align: right;\n",
       "    }\n",
       "</style>\n",
       "<table border=\"1\" class=\"dataframe\">\n",
       "  <thead>\n",
       "    <tr style=\"text-align: right;\">\n",
       "      <th></th>\n",
       "      <th>VehicleID</th>\n",
       "      <th>Amount (Million Naira)</th>\n",
       "    </tr>\n",
       "  </thead>\n",
       "  <tbody>\n",
       "    <tr>\n",
       "      <th>0</th>\n",
       "      <td>VHL18518</td>\n",
       "      <td>2.172714</td>\n",
       "    </tr>\n",
       "    <tr>\n",
       "      <th>1</th>\n",
       "      <td>VHL17149</td>\n",
       "      <td>6.599281</td>\n",
       "    </tr>\n",
       "    <tr>\n",
       "      <th>2</th>\n",
       "      <td>VHL10927</td>\n",
       "      <td>1.845452</td>\n",
       "    </tr>\n",
       "    <tr>\n",
       "      <th>3</th>\n",
       "      <td>VHL12909</td>\n",
       "      <td>5.169755</td>\n",
       "    </tr>\n",
       "    <tr>\n",
       "      <th>4</th>\n",
       "      <td>VHL12348</td>\n",
       "      <td>6.485132</td>\n",
       "    </tr>\n",
       "    <tr>\n",
       "      <th>...</th>\n",
       "      <td>...</td>\n",
       "      <td>...</td>\n",
       "    </tr>\n",
       "    <tr>\n",
       "      <th>2056</th>\n",
       "      <td>VHL17903</td>\n",
       "      <td>9.587418</td>\n",
       "    </tr>\n",
       "    <tr>\n",
       "      <th>2057</th>\n",
       "      <td>VHL14018</td>\n",
       "      <td>4.347777</td>\n",
       "    </tr>\n",
       "    <tr>\n",
       "      <th>2058</th>\n",
       "      <td>VHL17473</td>\n",
       "      <td>6.962563</td>\n",
       "    </tr>\n",
       "    <tr>\n",
       "      <th>2059</th>\n",
       "      <td>VHL11480</td>\n",
       "      <td>5.188789</td>\n",
       "    </tr>\n",
       "    <tr>\n",
       "      <th>2060</th>\n",
       "      <td>VHL13881</td>\n",
       "      <td>2.666302</td>\n",
       "    </tr>\n",
       "  </tbody>\n",
       "</table>\n",
       "<p>2061 rows × 2 columns</p>\n",
       "</div>"
      ],
      "text/plain": [
       "     VehicleID  Amount (Million Naira)\n",
       "0     VHL18518                2.172714\n",
       "1     VHL17149                6.599281\n",
       "2     VHL10927                1.845452\n",
       "3     VHL12909                5.169755\n",
       "4     VHL12348                6.485132\n",
       "...        ...                     ...\n",
       "2056  VHL17903                9.587418\n",
       "2057  VHL14018                4.347777\n",
       "2058  VHL17473                6.962563\n",
       "2059  VHL11480                5.188789\n",
       "2060  VHL13881                2.666302\n",
       "\n",
       "[2061 rows x 2 columns]"
      ]
     },
     "execution_count": 55,
     "metadata": {},
     "output_type": "execute_result"
    }
   ],
   "source": [
    "submission"
   ]
  },
  {
   "cell_type": "code",
   "execution_count": 56,
   "id": "76309e12",
   "metadata": {},
   "outputs": [],
   "source": [
    "submission.to_csv(\"Final submission.csv\", index=False)\n",
    "# the submission was converted to a csv file"
   ]
  },
  {
   "cell_type": "markdown",
   "id": "4d1212f6",
   "metadata": {},
   "source": [
    "# improving accuracy of the model using xgboost"
   ]
  },
  {
   "cell_type": "code",
   "execution_count": 57,
   "id": "04634955",
   "metadata": {},
   "outputs": [
    {
     "data": {
      "text/plain": [
       "XGBRegressor(base_score=0.5, booster='gbtree', callbacks=None,\n",
       "             colsample_bylevel=1, colsample_bynode=1, colsample_bytree=1,\n",
       "             early_stopping_rounds=None, enable_categorical=False,\n",
       "             eval_metric=None, gamma=0, gpu_id=-1, grow_policy='depthwise',\n",
       "             importance_type=None, interaction_constraints='',\n",
       "             learning_rate=0.300000012, max_bin=256, max_cat_to_onehot=4,\n",
       "             max_delta_step=0, max_depth=6, max_leaves=0, min_child_weight=1,\n",
       "             missing=nan, monotone_constraints='()', n_estimators=100, n_jobs=0,\n",
       "             num_parallel_tree=1, predictor='auto', random_state=0, reg_alpha=0,\n",
       "             reg_lambda=1, ...)"
      ]
     },
     "execution_count": 57,
     "metadata": {},
     "output_type": "execute_result"
    }
   ],
   "source": [
    "from xgboost import XGBRegressor\n",
    "xg_boost=XGBRegressor()\n",
    "\n",
    "xg_boost.fit(X_train, y_train)"
   ]
  },
  {
   "cell_type": "code",
   "execution_count": 58,
   "id": "3367a8b4",
   "metadata": {},
   "outputs": [
    {
     "data": {
      "text/plain": [
       "array([ 5.5881634, 10.706333 , 12.050221 , ..., 15.122808 ,  4.976084 ,\n",
       "       15.741096 ], dtype=float32)"
      ]
     },
     "execution_count": 58,
     "metadata": {},
     "output_type": "execute_result"
    }
   ],
   "source": [
    "y_pred=xg_boost.predict(X_test)\n",
    "y_pred"
   ]
  },
  {
   "cell_type": "code",
   "execution_count": 59,
   "id": "50658a61",
   "metadata": {},
   "outputs": [
    {
     "name": "stdout",
     "output_type": "stream",
     "text": [
      "MSE:  10.1324842961343\n"
     ]
    }
   ],
   "source": [
    "print(\"MSE: \", mean_squared_error(y_test,y_pred))"
   ]
  },
  {
   "cell_type": "code",
   "execution_count": 60,
   "id": "ad84200a",
   "metadata": {},
   "outputs": [
    {
     "data": {
      "text/plain": [
       "array([1.9777232, 3.9658554, 1.357234 , ..., 2.556708 , 5.096202 ,\n",
       "       3.155451 ], dtype=float32)"
      ]
     },
     "execution_count": 60,
     "metadata": {},
     "output_type": "execute_result"
    }
   ],
   "source": [
    "test_pred= xg_boost.predict(test)\n",
    "test_pred"
   ]
  },
  {
   "cell_type": "code",
   "execution_count": 61,
   "id": "171dfb28",
   "metadata": {},
   "outputs": [],
   "source": [
    "submission[\"Amount (Million Naira)\"]=test_pred"
   ]
  },
  {
   "cell_type": "code",
   "execution_count": 62,
   "id": "dc8fe8de",
   "metadata": {},
   "outputs": [
    {
     "data": {
      "text/html": [
       "<div>\n",
       "<style scoped>\n",
       "    .dataframe tbody tr th:only-of-type {\n",
       "        vertical-align: middle;\n",
       "    }\n",
       "\n",
       "    .dataframe tbody tr th {\n",
       "        vertical-align: top;\n",
       "    }\n",
       "\n",
       "    .dataframe thead th {\n",
       "        text-align: right;\n",
       "    }\n",
       "</style>\n",
       "<table border=\"1\" class=\"dataframe\">\n",
       "  <thead>\n",
       "    <tr style=\"text-align: right;\">\n",
       "      <th></th>\n",
       "      <th>VehicleID</th>\n",
       "      <th>Amount (Million Naira)</th>\n",
       "    </tr>\n",
       "  </thead>\n",
       "  <tbody>\n",
       "    <tr>\n",
       "      <th>0</th>\n",
       "      <td>VHL18518</td>\n",
       "      <td>1.977723</td>\n",
       "    </tr>\n",
       "    <tr>\n",
       "      <th>1</th>\n",
       "      <td>VHL17149</td>\n",
       "      <td>3.965855</td>\n",
       "    </tr>\n",
       "    <tr>\n",
       "      <th>2</th>\n",
       "      <td>VHL10927</td>\n",
       "      <td>1.357234</td>\n",
       "    </tr>\n",
       "    <tr>\n",
       "      <th>3</th>\n",
       "      <td>VHL12909</td>\n",
       "      <td>3.291476</td>\n",
       "    </tr>\n",
       "    <tr>\n",
       "      <th>4</th>\n",
       "      <td>VHL12348</td>\n",
       "      <td>3.540874</td>\n",
       "    </tr>\n",
       "    <tr>\n",
       "      <th>...</th>\n",
       "      <td>...</td>\n",
       "      <td>...</td>\n",
       "    </tr>\n",
       "    <tr>\n",
       "      <th>2056</th>\n",
       "      <td>VHL17903</td>\n",
       "      <td>9.265935</td>\n",
       "    </tr>\n",
       "    <tr>\n",
       "      <th>2057</th>\n",
       "      <td>VHL14018</td>\n",
       "      <td>3.001662</td>\n",
       "    </tr>\n",
       "    <tr>\n",
       "      <th>2058</th>\n",
       "      <td>VHL17473</td>\n",
       "      <td>2.556708</td>\n",
       "    </tr>\n",
       "    <tr>\n",
       "      <th>2059</th>\n",
       "      <td>VHL11480</td>\n",
       "      <td>5.096202</td>\n",
       "    </tr>\n",
       "    <tr>\n",
       "      <th>2060</th>\n",
       "      <td>VHL13881</td>\n",
       "      <td>3.155451</td>\n",
       "    </tr>\n",
       "  </tbody>\n",
       "</table>\n",
       "<p>2061 rows × 2 columns</p>\n",
       "</div>"
      ],
      "text/plain": [
       "     VehicleID  Amount (Million Naira)\n",
       "0     VHL18518                1.977723\n",
       "1     VHL17149                3.965855\n",
       "2     VHL10927                1.357234\n",
       "3     VHL12909                3.291476\n",
       "4     VHL12348                3.540874\n",
       "...        ...                     ...\n",
       "2056  VHL17903                9.265935\n",
       "2057  VHL14018                3.001662\n",
       "2058  VHL17473                2.556708\n",
       "2059  VHL11480                5.096202\n",
       "2060  VHL13881                3.155451\n",
       "\n",
       "[2061 rows x 2 columns]"
      ]
     },
     "execution_count": 62,
     "metadata": {},
     "output_type": "execute_result"
    }
   ],
   "source": [
    "submission"
   ]
  },
  {
   "cell_type": "code",
   "execution_count": 63,
   "id": "fd40af8b",
   "metadata": {},
   "outputs": [],
   "source": [
    "submission.to_csv(\"Final submission 3.csv\", index=False)"
   ]
  },
  {
   "cell_type": "markdown",
   "id": "11946bdf",
   "metadata": {},
   "source": [
    "## USING RANDOM FOREST TO IMPROVE THE MODEL"
   ]
  },
  {
   "cell_type": "code",
   "execution_count": 64,
   "id": "5fa29c0e",
   "metadata": {},
   "outputs": [],
   "source": [
    "from sklearn.ensemble import RandomForestRegressor\n",
    "rf=RandomForestRegressor()"
   ]
  },
  {
   "cell_type": "code",
   "execution_count": 65,
   "id": "b7ee974b",
   "metadata": {},
   "outputs": [
    {
     "data": {
      "text/plain": [
       "RandomForestRegressor()"
      ]
     },
     "execution_count": 65,
     "metadata": {},
     "output_type": "execute_result"
    }
   ],
   "source": [
    "rf.fit(X_train,y_train)"
   ]
  },
  {
   "cell_type": "code",
   "execution_count": 66,
   "id": "efbb4ce1",
   "metadata": {},
   "outputs": [
    {
     "data": {
      "text/plain": [
       "array([ 3.7922    ,  6.9441625 , 10.69707826, ..., 12.88224432,\n",
       "        3.3608    , 12.53016547])"
      ]
     },
     "execution_count": 66,
     "metadata": {},
     "output_type": "execute_result"
    }
   ],
   "source": [
    "y_pred=rf.predict(X_test)\n",
    "y_pred"
   ]
  },
  {
   "cell_type": "code",
   "execution_count": 67,
   "id": "880dad14",
   "metadata": {},
   "outputs": [
    {
     "name": "stdout",
     "output_type": "stream",
     "text": [
      "MSE:  10.793895701663761\n"
     ]
    }
   ],
   "source": [
    "print(\"MSE: \", mean_squared_error(y_test,y_pred))"
   ]
  },
  {
   "cell_type": "code",
   "execution_count": 68,
   "id": "fac0c1d0",
   "metadata": {},
   "outputs": [
    {
     "data": {
      "text/plain": [
       "array([3.7087    , 4.8535498 , 2.0578    , ..., 4.9086    , 3.9075    ,\n",
       "       3.91288333])"
      ]
     },
     "execution_count": 68,
     "metadata": {},
     "output_type": "execute_result"
    }
   ],
   "source": [
    "test_pred= rf.predict(test)\n",
    "test_pred"
   ]
  },
  {
   "cell_type": "code",
   "execution_count": 69,
   "id": "e7e80e2f",
   "metadata": {},
   "outputs": [],
   "source": [
    "submission[\"Amount (Million Naira)\"]=test_pred"
   ]
  },
  {
   "cell_type": "code",
   "execution_count": 70,
   "id": "911f89b0",
   "metadata": {},
   "outputs": [
    {
     "data": {
      "text/html": [
       "<div>\n",
       "<style scoped>\n",
       "    .dataframe tbody tr th:only-of-type {\n",
       "        vertical-align: middle;\n",
       "    }\n",
       "\n",
       "    .dataframe tbody tr th {\n",
       "        vertical-align: top;\n",
       "    }\n",
       "\n",
       "    .dataframe thead th {\n",
       "        text-align: right;\n",
       "    }\n",
       "</style>\n",
       "<table border=\"1\" class=\"dataframe\">\n",
       "  <thead>\n",
       "    <tr style=\"text-align: right;\">\n",
       "      <th></th>\n",
       "      <th>VehicleID</th>\n",
       "      <th>Amount (Million Naira)</th>\n",
       "    </tr>\n",
       "  </thead>\n",
       "  <tbody>\n",
       "    <tr>\n",
       "      <th>0</th>\n",
       "      <td>VHL18518</td>\n",
       "      <td>3.708700</td>\n",
       "    </tr>\n",
       "    <tr>\n",
       "      <th>1</th>\n",
       "      <td>VHL17149</td>\n",
       "      <td>4.853550</td>\n",
       "    </tr>\n",
       "    <tr>\n",
       "      <th>2</th>\n",
       "      <td>VHL10927</td>\n",
       "      <td>2.057800</td>\n",
       "    </tr>\n",
       "    <tr>\n",
       "      <th>3</th>\n",
       "      <td>VHL12909</td>\n",
       "      <td>4.717667</td>\n",
       "    </tr>\n",
       "    <tr>\n",
       "      <th>4</th>\n",
       "      <td>VHL12348</td>\n",
       "      <td>3.154400</td>\n",
       "    </tr>\n",
       "    <tr>\n",
       "      <th>...</th>\n",
       "      <td>...</td>\n",
       "      <td>...</td>\n",
       "    </tr>\n",
       "    <tr>\n",
       "      <th>2056</th>\n",
       "      <td>VHL17903</td>\n",
       "      <td>13.287789</td>\n",
       "    </tr>\n",
       "    <tr>\n",
       "      <th>2057</th>\n",
       "      <td>VHL14018</td>\n",
       "      <td>3.523500</td>\n",
       "    </tr>\n",
       "    <tr>\n",
       "      <th>2058</th>\n",
       "      <td>VHL17473</td>\n",
       "      <td>4.908600</td>\n",
       "    </tr>\n",
       "    <tr>\n",
       "      <th>2059</th>\n",
       "      <td>VHL11480</td>\n",
       "      <td>3.907500</td>\n",
       "    </tr>\n",
       "    <tr>\n",
       "      <th>2060</th>\n",
       "      <td>VHL13881</td>\n",
       "      <td>3.912883</td>\n",
       "    </tr>\n",
       "  </tbody>\n",
       "</table>\n",
       "<p>2061 rows × 2 columns</p>\n",
       "</div>"
      ],
      "text/plain": [
       "     VehicleID  Amount (Million Naira)\n",
       "0     VHL18518                3.708700\n",
       "1     VHL17149                4.853550\n",
       "2     VHL10927                2.057800\n",
       "3     VHL12909                4.717667\n",
       "4     VHL12348                3.154400\n",
       "...        ...                     ...\n",
       "2056  VHL17903               13.287789\n",
       "2057  VHL14018                3.523500\n",
       "2058  VHL17473                4.908600\n",
       "2059  VHL11480                3.907500\n",
       "2060  VHL13881                3.912883\n",
       "\n",
       "[2061 rows x 2 columns]"
      ]
     },
     "execution_count": 70,
     "metadata": {},
     "output_type": "execute_result"
    }
   ],
   "source": [
    "submission"
   ]
  },
  {
   "cell_type": "code",
   "execution_count": 71,
   "id": "58c0fc24",
   "metadata": {},
   "outputs": [],
   "source": [
    "submission.to_csv(\"second submission.csv\", index=False)"
   ]
  },
  {
   "cell_type": "code",
   "execution_count": 72,
   "id": "2688ebd3",
   "metadata": {},
   "outputs": [
    {
     "data": {
      "text/plain": [
       "' Apparently, random forest was not a great algorithm for this compared to xgboost and linear regression. Cheers to me working on more models/algorithms!'"
      ]
     },
     "execution_count": 72,
     "metadata": {},
     "output_type": "execute_result"
    }
   ],
   "source": [
    "''' Apparently, random forest was not a great algorithm for this compared to xgboost and linear regression. Cheers to me working on more models/algorithms!'''"
   ]
  },
  {
   "cell_type": "code",
   "execution_count": null,
   "id": "f3981100",
   "metadata": {},
   "outputs": [],
   "source": []
  }
 ],
 "metadata": {
  "kernelspec": {
   "display_name": "Python 3 (ipykernel)",
   "language": "python",
   "name": "python3"
  },
  "language_info": {
   "codemirror_mode": {
    "name": "ipython",
    "version": 3
   },
   "file_extension": ".py",
   "mimetype": "text/x-python",
   "name": "python",
   "nbconvert_exporter": "python",
   "pygments_lexer": "ipython3",
   "version": "3.9.7"
  }
 },
 "nbformat": 4,
 "nbformat_minor": 5
}
